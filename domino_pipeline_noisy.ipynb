{
 "cells": [
  {
   "cell_type": "code",
   "execution_count": null,
   "id": "d8609f94",
   "metadata": {},
   "outputs": [],
   "source": [
    "import os\n",
    "import random\n",
    "import numpy as np\n",
    "import pandas as pd\n",
    "import torch\n",
    "from tqdm import tqdm\n",
    "from collections import Counter\n",
    "from sklearn.decomposition import PCA\n",
    "from sklearn.feature_extraction.text import TfidfVectorizer\n",
    "import meerkat as mk\n",
    "from domino import DominoSlicer\n",
    "from classifer import *\n",
    "from bootstrap_utilis import *\n",
    "from sklearn.metrics import accuracy_score\n"
   ]
  },
  {
   "cell_type": "markdown",
   "id": "a59589b9",
   "metadata": {},
   "source": [
    "Class Label Y: Finding (0: Normal/ 1: Abnormal)\n"
   ]
  },
  {
   "cell_type": "markdown",
   "id": "ea91bf4b",
   "metadata": {},
   "source": [
    "Error Attribute (Position)"
   ]
  },
  {
   "cell_type": "code",
   "execution_count": 201,
   "id": "f9c012f8",
   "metadata": {},
   "outputs": [],
   "source": [
    "# V12 & V13\n",
    "# This is a sample run for \"Finding vs. Postition\". \n",
    "# The noise strength is 0.3.\n",
    "# Position 1 (frontal) and Position 2 (lateral) \n",
    "# We would like to have Classifier that underperforms when the sample is frontal \n"
   ]
  },
  {
   "cell_type": "markdown",
   "id": "186e5ddf",
   "metadata": {},
   "source": [
    "### Data Preparation"
   ]
  },
  {
   "cell_type": "code",
   "execution_count": 193,
   "id": "d5171468",
   "metadata": {},
   "outputs": [
    {
     "name": "stdout",
     "output_type": "stream",
     "text": [
      "=================== Bootstrap Experiment ==========\n",
      "This the experiment for Cardiomegaly and Position labels\n",
      "Loading test and train DataFrames...\n",
      "Create the embeddings for the test DataFrame...\n"
     ]
    }
   ],
   "source": [
    "label_1 = 'Cardiomegaly'\n",
    "label_2 = 'Position'\n",
    "\n",
    "attribute = False  # If True, the classifier will be biased towards the attribute\n",
    "print(\"=================== Bootstrap Experiment ==========\")\n",
    "print(f\"This the experiment for {label_1} and {label_2} labels\")\n",
    "test_df = pd.read_parquet(\"/vol/bitbucket/yl28218/thesis/mimic_cxr_exp/data/test_df_with_embeddings_cardio_position.parquet\")\n",
    "test_df = test_df[test_df[\"Cardiomegaly\"].isin([1, 0])].reset_index(drop=True)\n",
    "print(\"Loading test and train DataFrames...\")\n",
    "train_df = pd.read_parquet(\"/vol/bitbucket/yl28218/thesis/mimic_cxr_exp/data/train_df_cardio_position.parquet\")\n",
    "train_df = train_df[train_df[\"Cardiomegaly\"].isin([1, 0])].reset_index(drop=True)\n",
    "print(\"Create the embeddings for the test DataFrame...\")\n",
    "test_df[\"combined_embedding\"] = get_combined_embedding(test_df, 'image_embedding', 'report_embedding', n_components=512)\n",
    "test_df[\"combined_emebdding_v2\"] = get_combined_embedding(test_df, 'image_embedding', 'report_embedding', 'metadata_embedding', 512)\n",
    "test_df[\"combined_embedding_v3\"] = get_combined_embedding(test_df, 'report_embedding', 'metadata_embedding', n_components=512)\n",
    "test_df[\"combined_embedding_v4\"] = get_combined_embedding(test_df, 'image_embedding', 'metadata_embedding')\n",
    "root_folder = \"/vol/bitbucket/yl28218/thesis/physionet.org/files/mimic-cxr-jpg/2.1.0/files\"\n",
    "selected_columns = [label_2, 'predicted', 'true', 'id', 'path', 'report_text', 'image_embedding', 'report_embedding', 'metadata_embedding', \"Rows\", \"Columns\", \"metadata_description\", \"combined_embedding\", \"combined_emebdding_v2\", \"combined_embedding_v3\", \"combined_embedding_v4\"]\n",
    "checkpointpath = None\n",
    "token_results = {\"image_only\": [], \"image_text\": [], \"image_text_meta\": [], \"text\": [], \"meta\": [], \"report_metadata\": [], \"image_metadata\": []}\n",
    "\n",
    "\n",
    "    \n",
    "seed =43\n",
    "k = 10\n",
    "max_features = 1000\n",
    "\n",
    "threshold = 0.1"
   ]
  },
  {
   "cell_type": "code",
   "execution_count": 194,
   "id": "cb072bf2",
   "metadata": {},
   "outputs": [],
   "source": [
    "label_1_values = 1"
   ]
  },
  {
   "cell_type": "code",
   "execution_count": 195,
   "id": "2503b5e2",
   "metadata": {},
   "outputs": [],
   "source": [
    "seed =42"
   ]
  },
  {
   "cell_type": "code",
   "execution_count": 196,
   "id": "dfd69143",
   "metadata": {},
   "outputs": [],
   "source": [
    "def get_df_with_rare_attr(df, label_1, label_2, size=1000, strength=0.05, \n",
    "                          label1_value=1, label2_value=1, seed=42):\n",
    "   \n",
    "\n",
    "    np.random.seed(seed)\n",
    "\n",
    " \n",
    "    per_class_size = size // 2\n",
    "\n",
    "\n",
    "    rare_size = int(size * strength)\n",
    "\n",
    "\n",
    "    df_rare = df[(df[label_1] == label1_value) & (df[label_2] == label2_value)] \\\n",
    "                .sample(n=rare_size, random_state=seed)\n",
    "\n",
    "\n",
    "    df_not_rare_target = df[(df[label_1] == label1_value) & (df[label_2] != label2_value)] \\\n",
    "                .sample(n=per_class_size - rare_size, random_state=seed)\n",
    "\n",
    "\n",
    "    df_non_target = df[df[label_1] != label1_value] \\\n",
    "                .sample(n=per_class_size, random_state=seed)\n",
    "\n",
    "\n",
    "    df_combined = pd.concat([df_rare, df_not_rare_target, df_non_target]).reset_index(drop=True)\n",
    "    df_combined = df_combined.sample(frac=1, random_state=seed).reset_index(drop=True)\n",
    "\n",
    "    return df_combined\n"
   ]
  },
  {
   "cell_type": "markdown",
   "id": "46c81160",
   "metadata": {},
   "source": [
    "### Classifier Training "
   ]
  },
  {
   "cell_type": "code",
   "execution_count": 5,
   "id": "4a96010c",
   "metadata": {},
   "outputs": [
    {
     "data": {
      "text/html": [
       "<div>\n",
       "<style scoped>\n",
       "    .dataframe tbody tr th:only-of-type {\n",
       "        vertical-align: middle;\n",
       "    }\n",
       "\n",
       "    .dataframe tbody tr th {\n",
       "        vertical-align: top;\n",
       "    }\n",
       "\n",
       "    .dataframe thead th {\n",
       "        text-align: right;\n",
       "    }\n",
       "</style>\n",
       "<table border=\"1\" class=\"dataframe\">\n",
       "  <thead>\n",
       "    <tr style=\"text-align: right;\">\n",
       "      <th>Cardiomegaly</th>\n",
       "      <th>0.0</th>\n",
       "      <th>1.0</th>\n",
       "    </tr>\n",
       "    <tr>\n",
       "      <th>Position</th>\n",
       "      <th></th>\n",
       "      <th></th>\n",
       "    </tr>\n",
       "  </thead>\n",
       "  <tbody>\n",
       "    <tr>\n",
       "      <th>0</th>\n",
       "      <td>196</td>\n",
       "      <td>10</td>\n",
       "    </tr>\n",
       "    <tr>\n",
       "      <th>1</th>\n",
       "      <td>304</td>\n",
       "      <td>490</td>\n",
       "    </tr>\n",
       "  </tbody>\n",
       "</table>\n",
       "</div>"
      ],
      "text/plain": [
       "Cardiomegaly  0.0  1.0\n",
       "Position              \n",
       "0             196   10\n",
       "1             304  490"
      ]
     },
     "execution_count": 5,
     "metadata": {},
     "output_type": "execute_result"
    }
   ],
   "source": [
    "train = get_df_with_rare_attr(train_df, label_1, label_2, size=1000, strength=0.01, label1_value=1, label2_value=0, seed=seed)\n",
    "train.groupby(['Position', 'Cardiomegaly']).size().unstack(fill_value=0)"
   ]
  },
  {
   "cell_type": "code",
   "execution_count": 167,
   "id": "2fa5aba8",
   "metadata": {},
   "outputs": [
    {
     "name": "stdout",
     "output_type": "stream",
     "text": [
      "In this experiment, with the attribute Position, the model would outperform systembatically.\n",
      "rare_strength: 0.02, seed: 43\n",
      "Training the classifier...\n",
      "Loading cached complete file map...\n",
      "Cache loaded successfully! Found 199501 pairs.\n",
      "Filtering valid samples for train set...\n"
     ]
    },
    {
     "name": "stderr",
     "output_type": "stream",
     "text": [
      "100%|██████████| 1000/1000 [00:21<00:00, 46.46it/s]\n"
     ]
    },
    {
     "name": "stdout",
     "output_type": "stream",
     "text": [
      "Original train samples: 1000\n",
      "Valid train samples: 876\n",
      "Missing train samples: 124\n",
      "Loading cached complete file map...\n",
      "Cache loaded successfully! Found 199501 pairs.\n",
      "Filtering valid samples for validation set...\n"
     ]
    },
    {
     "name": "stderr",
     "output_type": "stream",
     "text": [
      "100%|██████████| 268/268 [00:04<00:00, 57.31it/s]\n"
     ]
    },
    {
     "name": "stdout",
     "output_type": "stream",
     "text": [
      "Original validation samples: 268\n",
      "Valid validation samples: 268\n",
      "Missing validation samples: 0\n",
      "========== Correlation Analysis =========\n",
      "Correlation strength between Cardiomegaly and Position in clean train set): 0.417\n"
     ]
    },
    {
     "name": "stderr",
     "output_type": "stream",
     "text": [
      "Epoch 1/10: 100%|██████████| 110/110 [03:43<00:00,  2.03s/it]\n"
     ]
    },
    {
     "name": "stdout",
     "output_type": "stream",
     "text": [
      "Epoch 1 done. Avg Loss = 0.6363\n"
     ]
    },
    {
     "name": "stderr",
     "output_type": "stream",
     "text": [
      "Validating: 100%|██████████| 34/34 [00:48<00:00,  1.43s/it]\n"
     ]
    },
    {
     "name": "stdout",
     "output_type": "stream",
     "text": [
      "Val Accuracy: 0.4478\n"
     ]
    },
    {
     "name": "stderr",
     "output_type": "stream",
     "text": [
      "Epoch 2/10: 100%|██████████| 110/110 [01:53<00:00,  1.03s/it]\n"
     ]
    },
    {
     "name": "stdout",
     "output_type": "stream",
     "text": [
      "Epoch 2 done. Avg Loss = 0.5712\n"
     ]
    },
    {
     "name": "stderr",
     "output_type": "stream",
     "text": [
      "Validating: 100%|██████████| 34/34 [00:24<00:00,  1.41it/s]\n"
     ]
    },
    {
     "name": "stdout",
     "output_type": "stream",
     "text": [
      "Val Accuracy: 0.4963\n"
     ]
    },
    {
     "name": "stderr",
     "output_type": "stream",
     "text": [
      "Epoch 3/10: 100%|██████████| 110/110 [01:07<00:00,  1.64it/s]\n"
     ]
    },
    {
     "name": "stdout",
     "output_type": "stream",
     "text": [
      "Epoch 3 done. Avg Loss = 0.5248\n"
     ]
    },
    {
     "name": "stderr",
     "output_type": "stream",
     "text": [
      "Validating: 100%|██████████| 34/34 [00:24<00:00,  1.41it/s]\n"
     ]
    },
    {
     "name": "stdout",
     "output_type": "stream",
     "text": [
      "Val Accuracy: 0.4813\n"
     ]
    },
    {
     "name": "stderr",
     "output_type": "stream",
     "text": [
      "Epoch 4/10: 100%|██████████| 110/110 [01:06<00:00,  1.66it/s]\n"
     ]
    },
    {
     "name": "stdout",
     "output_type": "stream",
     "text": [
      "Epoch 4 done. Avg Loss = 0.4961\n"
     ]
    },
    {
     "name": "stderr",
     "output_type": "stream",
     "text": [
      "Validating: 100%|██████████| 34/34 [00:22<00:00,  1.53it/s]\n"
     ]
    },
    {
     "name": "stdout",
     "output_type": "stream",
     "text": [
      "Val Accuracy: 0.5933\n"
     ]
    },
    {
     "name": "stderr",
     "output_type": "stream",
     "text": [
      "Epoch 5/10: 100%|██████████| 110/110 [01:05<00:00,  1.67it/s]\n"
     ]
    },
    {
     "name": "stdout",
     "output_type": "stream",
     "text": [
      "Epoch 5 done. Avg Loss = 0.4268\n"
     ]
    },
    {
     "name": "stderr",
     "output_type": "stream",
     "text": [
      "Validating: 100%|██████████| 34/34 [00:22<00:00,  1.54it/s]\n"
     ]
    },
    {
     "name": "stdout",
     "output_type": "stream",
     "text": [
      "Val Accuracy: 0.5634\n"
     ]
    },
    {
     "name": "stderr",
     "output_type": "stream",
     "text": [
      "Epoch 6/10: 100%|██████████| 110/110 [01:12<00:00,  1.51it/s]\n"
     ]
    },
    {
     "name": "stdout",
     "output_type": "stream",
     "text": [
      "Epoch 6 done. Avg Loss = 0.4119\n"
     ]
    },
    {
     "name": "stderr",
     "output_type": "stream",
     "text": [
      "Validating: 100%|██████████| 34/34 [00:23<00:00,  1.47it/s]\n"
     ]
    },
    {
     "name": "stdout",
     "output_type": "stream",
     "text": [
      "Val Accuracy: 0.5597\n"
     ]
    },
    {
     "name": "stderr",
     "output_type": "stream",
     "text": [
      "Epoch 7/10: 100%|██████████| 110/110 [01:25<00:00,  1.28it/s]\n"
     ]
    },
    {
     "name": "stdout",
     "output_type": "stream",
     "text": [
      "Epoch 7 done. Avg Loss = 0.3826\n"
     ]
    },
    {
     "name": "stderr",
     "output_type": "stream",
     "text": [
      "Validating: 100%|██████████| 34/34 [00:21<00:00,  1.55it/s]\n"
     ]
    },
    {
     "name": "stdout",
     "output_type": "stream",
     "text": [
      "Val Accuracy: 0.5672\n",
      "Early stopping triggered.\n",
      "Evaluating best model...\n",
      "Loading cached complete file map...\n",
      "Cache loaded successfully! Found 199501 pairs.\n",
      "Filtering valid samples for test set...\n"
     ]
    },
    {
     "name": "stderr",
     "output_type": "stream",
     "text": [
      "100%|██████████| 300/300 [00:00<00:00, 310.15it/s]\n"
     ]
    },
    {
     "name": "stdout",
     "output_type": "stream",
     "text": [
      "Original test samples: 300\n",
      "Valid test samples: 300\n",
      "Missing test samples: 0\n"
     ]
    },
    {
     "name": "stderr",
     "output_type": "stream",
     "text": [
      "Testing: 100%|██████████| 38/38 [00:22<00:00,  1.72it/s]\n"
     ]
    },
    {
     "name": "stdout",
     "output_type": "stream",
     "text": [
      "Test Accuracy: 0.6033\n",
      "Average Test Accuracy: 0.6033\n",
      " Position X-ray Accuracy: 0.7159\n",
      "No Position X-ray Accuracy: 0.5000\n",
      "Classifier training completed.\n",
      "Position X-ray Accuracy  is significantly lower than no Position X-ray Accuracy by -0.2159, proceeding with analysis.\n"
     ]
    }
   ],
   "source": [
    "if attribute:\n",
    "        print(f\"In this experiment, with the attribute {label_2}, the model would underperform systembatically.\")\n",
    "else:\n",
    "        print(f\"In this experiment, with the attribute {label_2}, the model would outperform systembatically.\")\n",
    "\n",
    "while True:\n",
    "    np.random.seed(seed)\n",
    "\n",
    "    rare_strength = 0.02\n",
    "    print(f\"rare_strength: {rare_strength}, seed: {seed}\")\n",
    "    if attribute:\n",
    "        label_2_value = 1\n",
    "    else:\n",
    "        label_2_value = 0\n",
    "    train = get_df_with_rare_attr(train_df, label_1, label_2, size=1000, strength=rare_strength, label1_value=1, label2_value=0, seed=seed)\n",
    "    test = test_df.sample(n=300, random_state=seed).reset_index(drop=True)\n",
    "    #val = test[test['Support Devices'] == 0].copy()\n",
    "    # Ensure the validation set has no support devices, so the classifier is baised on the absence of support devices\n",
    "    if attribute:\n",
    "        val = test[test[label_2] != 1].copy()\n",
    "    else:\n",
    "        val = test[test[label_2] == 1].copy()\n",
    "\n",
    "    # Train the classifier\n",
    "    print(\"Training the classifier...\")\n",
    "\n",
    "    best_acc, best_model, strength = train_model(train, val, root_folder, label_1, label_2, checkpointpath, epochs=10)\n",
    "    if best_model is not None:\n",
    "        test_results = evaluate_best_model(best_model, test, root_folder, label_1)\n",
    "\n",
    "        if len(test_results) > 0:\n",
    "            avg_test_acc = accuracy_score(test_results[\"true\"], test_results[\"predicted\"])\n",
    "            print(f\"Average Test Accuracy: {avg_test_acc:.4f}\")\n",
    "            test_results_1 = test_results[test_results[label_1] == 1].copy()\n",
    "\n",
    "            if label_2 in test_results.columns:\n",
    "                support_mask = test_results_1[label_2] == 1\n",
    "                if support_mask.sum() > 0:\n",
    "                    support_acc = accuracy_score(test_results_1[support_mask][\"true\"], test_results_1[support_mask][\"predicted\"])\n",
    "                    print(f\" {label_2} X-ray Accuracy: {support_acc:.4f}\")\n",
    "\n",
    "                no_support_mask = test_results_1[label_2] != 1\n",
    "                if no_support_mask.sum() > 0:\n",
    "                    no_support_acc = accuracy_score(test_results_1[no_support_mask][\"true\"], test_results_1[no_support_mask][\"predicted\"])\n",
    "                    print(f\"No {label_2} X-ray Accuracy: {no_support_acc:.4f}\")\n",
    "        else:\n",
    "            print(\"No test results to analyze.\")\n",
    "    else:\n",
    "        print(\"No valid model trained.\")\n",
    "\n",
    "    print(\"Classifier training completed.\")\n",
    "    if attribute:\n",
    "        difference = no_support_acc - support_acc\n",
    "    else:\n",
    "        difference = support_acc - no_support_acc\n",
    "\n",
    "    if  difference >= threshold:\n",
    "        print(f\"{label_2} X-ray Accuracy  is significantly lower than no {label_2} X-ray Accuracy by {no_support_acc - support_acc:.4f}, proceeding with analysis.\")\n",
    "        # Proceed with the analysis\n",
    "        break \n",
    "\n",
    "    else:\n",
    "        print(\"The training was unsuccessful, skipping this iteration.\")\n",
    "        seed += 1\n",
    "        continue\n",
    "    \n",
    "        "
   ]
  },
  {
   "cell_type": "code",
   "execution_count": 197,
   "id": "8c921f56",
   "metadata": {},
   "outputs": [
    {
     "name": "stdout",
     "output_type": "stream",
     "text": [
      "Number of test samples with Position = 0 and Cardiomegaly = 1: 60\n",
      "Number of test samples with Position != 0 or Cardiomegaly != 1: 270\n"
     ]
    }
   ],
   "source": [
    "# label_2 = 0 and label_1 = 1\n",
    "test_underperforming = test_df[(test_df[label_2] == 0) & (test_df[label_1] == 1)].copy()\n",
    "test_rest = test_df[(test_df[label_2] != 0) | (test_df[label_1] != 1)].copy()\n",
    "test_1 = test_underperforming.sample(n=60, random_state=seed).reset_index(drop=True)\n",
    "print(f\"Number of test samples with {label_2} = 0 and {label_1} = 1: {len(test_1)}\")\n",
    "test_2 = test_rest.sample(n=270, random_state=seed).reset_index(drop=True)\n",
    "print(f\"Number of test samples with {label_2} != 0 or {label_1} != 1: {len(test_2)}\")\n",
    "test = pd.concat([test_1, test_2], ignore_index=True)   \n",
    "#shuffle the test set\n",
    "test = test.sample(frac=1, random_state=seed).reset_index(drop=True)"
   ]
  },
  {
   "cell_type": "code",
   "execution_count": 198,
   "id": "eca8061c",
   "metadata": {},
   "outputs": [
    {
     "name": "stdout",
     "output_type": "stream",
     "text": [
      "Evaluating best model...\n",
      "Loading cached complete file map...\n",
      "Cache loaded successfully! Found 199501 pairs.\n",
      "Filtering valid samples for test set...\n"
     ]
    },
    {
     "name": "stderr",
     "output_type": "stream",
     "text": [
      "100%|██████████| 330/330 [00:07<00:00, 46.85it/s]\n"
     ]
    },
    {
     "name": "stdout",
     "output_type": "stream",
     "text": [
      "Original test samples: 330\n",
      "Valid test samples: 330\n",
      "Missing test samples: 0\n"
     ]
    },
    {
     "name": "stderr",
     "output_type": "stream",
     "text": [
      "Testing: 100%|██████████| 42/42 [00:24<00:00,  1.75it/s]"
     ]
    },
    {
     "name": "stdout",
     "output_type": "stream",
     "text": [
      "Test Accuracy: 0.5667\n"
     ]
    },
    {
     "name": "stderr",
     "output_type": "stream",
     "text": [
      "\n"
     ]
    }
   ],
   "source": [
    "test_results = evaluate_best_model(best_model, test, root_folder, label_1)"
   ]
  },
  {
   "cell_type": "code",
   "execution_count": 199,
   "id": "669c31c1",
   "metadata": {},
   "outputs": [
    {
     "name": "stdout",
     "output_type": "stream",
     "text": [
      "Test set accuracy for Position = 0 (lateral): 0.4167\n",
      "Test set accuracy for Position = 1 (frontal): 0.6818\n"
     ]
    }
   ],
   "source": [
    "#calculate the accuracy for the test set\n",
    "test_results_0 = test_results[test_results[label_1] == 1].copy()\n",
    "test_results_0_lateral = test_results_0[test_results_0[label_2] == 0].copy()\n",
    "test_results_0_frontal = test_results_0[test_results_0[label_2] == 1].copy()\n",
    "# accuracy for the test set\n",
    "test_results_0_lateral_acc = accuracy_score(test_results_0_lateral[\"true\"], test_results_0_lateral[\"predicted\"])\n",
    "test_results_0_frontal_acc = accuracy_score(test_results_0_frontal[\"true\"], test_results_0_frontal[\"predicted\"])\n",
    "print(f\"Test set accuracy for {label_2} = 0 (lateral): {test_results_0_lateral_acc:.4f}\")\n",
    "print(f\"Test set accuracy for {label_2} = 1 (frontal): {test_results_0_frontal_acc:.4f}\")\n"
   ]
  },
  {
   "cell_type": "code",
   "execution_count": 200,
   "id": "8accf421",
   "metadata": {},
   "outputs": [
    {
     "data": {
      "text/html": [
       "<div>\n",
       "<style scoped>\n",
       "    .dataframe tbody tr th:only-of-type {\n",
       "        vertical-align: middle;\n",
       "    }\n",
       "\n",
       "    .dataframe tbody tr th {\n",
       "        vertical-align: top;\n",
       "    }\n",
       "\n",
       "    .dataframe thead th {\n",
       "        text-align: right;\n",
       "    }\n",
       "</style>\n",
       "<table border=\"1\" class=\"dataframe\">\n",
       "  <thead>\n",
       "    <tr style=\"text-align: right;\">\n",
       "      <th>Cardiomegaly</th>\n",
       "      <th>0.0</th>\n",
       "      <th>1.0</th>\n",
       "    </tr>\n",
       "    <tr>\n",
       "      <th>Position</th>\n",
       "      <th></th>\n",
       "      <th></th>\n",
       "    </tr>\n",
       "  </thead>\n",
       "  <tbody>\n",
       "    <tr>\n",
       "      <th>0</th>\n",
       "      <td>20</td>\n",
       "      <td>60</td>\n",
       "    </tr>\n",
       "    <tr>\n",
       "      <th>1</th>\n",
       "      <td>162</td>\n",
       "      <td>88</td>\n",
       "    </tr>\n",
       "  </tbody>\n",
       "</table>\n",
       "</div>"
      ],
      "text/plain": [
       "Cardiomegaly  0.0  1.0\n",
       "Position              \n",
       "0              20   60\n",
       "1             162   88"
      ]
     },
     "execution_count": 200,
     "metadata": {},
     "output_type": "execute_result"
    }
   ],
   "source": [
    "test_results.groupby([label_2, label_1]).size().unstack(fill_value=0)"
   ]
  },
  {
   "cell_type": "markdown",
   "id": "5f96fce8",
   "metadata": {},
   "source": [
    "### Domino"
   ]
  },
  {
   "cell_type": "code",
   "execution_count": 201,
   "id": "74227842",
   "metadata": {},
   "outputs": [],
   "source": [
    "def analyze_error_slice_tokens(slice_df, test_df, k=20, max_features=1000, seed=42):\n",
    "    most_common_class = slice_df['true'].value_counts().idxmax()\n",
    "    correct_df = test_df[(test_df['true'] == most_common_class) & (test_df['predicted'] == most_common_class)]\n",
    "\n",
    "    error_texts = (slice_df['report_text'].fillna('') + ' ' + slice_df['metadata_description'].fillna('')).tolist()\n",
    "    normal_texts = (correct_df['report_text'].fillna('') + ' ' + correct_df['metadata_description'].fillna('')).tolist()\n",
    "    all_texts = normal_texts + error_texts\n",
    "    vectorizer = TfidfVectorizer(\n",
    "        max_features=max_features,\n",
    "        ngram_range=(1, 4),\n",
    "        stop_words=\"english\",\n",
    "        token_pattern=r'\\b[a-zA-Z]{2,}\\b'\n",
    "    )\n",
    "    tfidf_matrix = vectorizer.fit_transform(all_texts)\n",
    "    feature_names = vectorizer.get_feature_names_out()\n",
    "    split_index = len(normal_texts)\n",
    "    tfidf_array = tfidf_matrix.toarray()\n",
    "    normal_avg = np.mean(tfidf_array[:split_index], axis=0)\n",
    "    error_avg = np.mean(tfidf_array[split_index:], axis=0)\n",
    "    #diff_scores = error_avg - normal_avg\n",
    "    diff_scores = error_avg - normal_avg\n",
    "    analyzer = vectorizer.build_analyzer()\n",
    "    error_tokens = sum((analyzer(t) for t in error_texts), [])\n",
    "    normal_tokens = sum((analyzer(t) for t in normal_texts), [])\n",
    "    error_counts = Counter(error_tokens)\n",
    "    normal_counts = Counter(normal_tokens)\n",
    "    result_df = pd.DataFrame({\n",
    "        'token': feature_names,\n",
    "        'diff_score': diff_scores,\n",
    "        'error_count': [error_counts[token] for token in feature_names],\n",
    "        'normal_count': [normal_counts[token] for token in feature_names]\n",
    "    })\n",
    "    return result_df.sort_values(by='diff_score', ascending=False)"
   ]
  },
  {
   "cell_type": "code",
   "execution_count": 202,
   "id": "c6e0c663",
   "metadata": {},
   "outputs": [],
   "source": [
    "def domino_wrapper(mk_df, embeddings_col, targets_col, slice_name, pred_probs_col, seed=42):\n",
    "    os.environ[\"PYTHONHASHSEED\"] = str(seed)\n",
    "    random.seed(seed)\n",
    "    np.random.seed(seed)\n",
    "    torch.manual_seed(seed)\n",
    "    torch.cuda.manual_seed_all(seed)\n",
    "    torch.backends.cudnn.deterministic = True\n",
    "    torch.backends.cudnn.benchmark = False\n",
    "    domino = DominoSlicer(\n",
    "        y_log_likelihood_weight=10,\n",
    "        y_hat_log_likelihood_weight=10,\n",
    "        n_mixture_components=20,\n",
    "        n_slices=5,\n",
    "        random_state=seed,\n",
    "        init_params=\"kmeans\"\n",
    "    )\n",
    "    domino.fit(data=mk_df, embeddings=embeddings_col, targets=targets_col, pred_probs=pred_probs_col)\n",
    "    mk_df[slice_name] = domino.predict_proba(data=mk_df, embeddings=embeddings_col, targets=targets_col, pred_probs=pred_probs_col)\n",
    "    return mk_df"
   ]
  },
  {
   "cell_type": "code",
   "execution_count": 203,
   "id": "28bbfd67",
   "metadata": {},
   "outputs": [
    {
     "name": "stderr",
     "output_type": "stream",
     "text": [
      " 27%|\u001b[38;2;241;122;74m██▋       \u001b[0m| 27/100 [00:00<00:00, 395.11it/s]\n",
      " 22%|\u001b[38;2;241;122;74m██▏       \u001b[0m| 22/100 [00:00<00:00, 584.08it/s]\n",
      " 14%|\u001b[38;2;241;122;74m█▍        \u001b[0m| 14/100 [00:00<00:00, 333.59it/s]\n",
      " 34%|\u001b[38;2;241;122;74m███▍      \u001b[0m| 34/100 [00:00<00:00, 292.11it/s]\n",
      "  1%|\u001b[38;2;241;122;74m          \u001b[0m| 1/100 [00:00<00:01, 87.96it/s]\n",
      " 21%|\u001b[38;2;241;122;74m██        \u001b[0m| 21/100 [00:00<00:00, 263.96it/s]\n",
      " 19%|\u001b[38;2;241;122;74m█▉        \u001b[0m| 19/100 [00:00<00:00, 511.94it/s]\n"
     ]
    },
    {
     "name": "stdout",
     "output_type": "stream",
     "text": [
      "Precision@10 for Image Only Slice: 0.4000\n",
      "Precision@10 for Image + Text Slice: 0.0000\n",
      "Precision@10 for Image + Text + Metadata Slice: 1.0000\n",
      "Precision@10 for Report Text Slice: 0.7000\n",
      "Precision@10 for Metadata Slice: 1.0000\n",
      "Precision@10 for Report + Metadata Slice: 1.0000\n",
      "Precision@10 for Image + Metadata Slice: 1.0000\n"
     ]
    }
   ],
   "source": [
    "mk_df = create_meerkat_datapanel(test_results, selected_columns)\n",
    "mk_df = domino_wrapper(mk_df, 'image_embedding', 'true', 'slice_image_only', 'predicted')\n",
    "mk_df = domino_wrapper(mk_df, 'combined_embedding', 'true', 'slice_image_text', 'predicted')\n",
    "mk_df = domino_wrapper(mk_df, 'combined_emebdding_v2', 'true', 'slice_image_text_meta', 'predicted')\n",
    "mk_df = domino_wrapper(mk_df, \"report_embedding\", 'true', 'slice_report_text', 'predicted')\n",
    "mk_df = domino_wrapper(mk_df, \"metadata_embedding\", 'true', 'slice_metadata', 'predicted')\n",
    "mk_df = domino_wrapper(mk_df, \"combined_embedding_v3\", 'true', 'slice_report_metadata', 'predicted')\n",
    "mk_df = domino_wrapper(mk_df, \"combined_embedding_v4\", 'true', 'slice_image_metadata', 'predicted')\n",
    "\n",
    "\n",
    "\n",
    "\n",
    "slice_1, precision_k_1 = best_precision_slice('slice_image_only', mk_df, label_2, label_1_values, k, attribute)\n",
    "slice_2, precision_k_2 = best_precision_slice('slice_image_text', mk_df, label_2, label_1_values, k, attribute)\n",
    "slice_3, precision_k_3 = best_precision_slice('slice_image_text_meta', mk_df, label_2, label_1_values, k, attribute)\n",
    "slice_4, precision_k_4 = best_precision_slice('slice_report_text', mk_df, label_2, label_1_values, k, attribute)\n",
    "slice_5, precision_k_5 = best_precision_slice('slice_metadata', mk_df, label_2, label_1_values, k, attribute)\n",
    "slice_6, precision_k_6 = best_precision_slice('slice_report_metadata', mk_df, label_2, label_1_values, k, attribute)\n",
    "slice_7, precision_k_7 = best_precision_slice('slice_image_metadata', mk_df, label_2, label_1_values, k, attribute)\n",
    "\n",
    "\n",
    "print(f\"Precision@{k} for Image Only Slice: {precision_k_1:.4f}\")\n",
    "print(f\"Precision@{k} for Image + Text Slice: {precision_k_2:.4f}\")\n",
    "print(f\"Precision@{k} for Image + Text + Metadata Slice: {precision_k_3:.4f}\")\n",
    "print(f\"Precision@{k} for Report Text Slice: {precision_k_4:.4f}\")\n",
    "print(f\"Precision@{k} for Metadata Slice: {precision_k_5:.4f}\")\n",
    "print(f\"Precision@{k} for Report + Metadata Slice: {precision_k_6:.4f}\")\n",
    "print(f\"Precision@{k} for Image + Metadata Slice: {precision_k_7:.4f}\")\n",
    "\n",
    "\n",
    "tokens_slice_1 = analyze_error_slice_tokens(slice_1, test_results, k, max_features)\n",
    "tokens_slice_2 = analyze_error_slice_tokens(slice_2, test_results, k, max_features)\n",
    "tokens_slice_3 = analyze_error_slice_tokens(slice_3, test_results, k, max_features)\n",
    "tokens_slice_4 = analyze_error_slice_tokens(slice_4, test_results, k, max_features)\n",
    "tokens_slice_5 = analyze_error_slice_tokens(slice_5, test_results, k, max_features)\n",
    "tokens_slice_6 = analyze_error_slice_tokens(slice_6, test_results, k, max_features)\n",
    "tokens_slice_7 = analyze_error_slice_tokens(slice_7, test_results, k, max_features)"
   ]
  },
  {
   "cell_type": "code",
   "execution_count": 204,
   "id": "10b4845f",
   "metadata": {},
   "outputs": [
    {
     "name": "stdout",
     "output_type": "stream",
     "text": [
      "Support Devices Proportion in Incorrect Predictions: 0.2797\n"
     ]
    }
   ],
   "source": [
    "# the samples with wrong predictions\n",
    "test_results_incorrect = test_results[test_results['true'] != test_results['predicted']].copy()\n",
    "# calculate the suppoting devices proportion\n",
    "test_results_incorrect['Position'] = test_results_incorrect['Position'].fillna(0)\n",
    "support_devices_count = test_results_incorrect['Position'].sum()\n",
    "total_count = len(test_results_incorrect)\n",
    "support_devices_proportion = 1- (support_devices_count / total_count if total_count > 0 else 0)\n",
    "print(f\"Support Devices Proportion in Incorrect Predictions: {support_devices_proportion:.4f}\")"
   ]
  },
  {
   "cell_type": "code",
   "execution_count": 205,
   "id": "3890149f",
   "metadata": {},
   "outputs": [
    {
     "data": {
      "image/png": "[encoded data removed]",
      "text/plain": [
       "<Figure size 600x600 with 1 Axes>"
      ]
     },
     "metadata": {},
     "output_type": "display_data"
    }
   ],
   "source": [
    "from matplotlib import pyplot as plt\n",
    "\n",
    "\n",
    "k = 10\n",
    "precision_values = [\n",
    "    precision_k_1,\n",
    "    precision_k_2,\n",
    "    precision_k_3,\n",
    "    precision_k_4,\n",
    "    precision_k_5,\n",
    "    precision_k_6,\n",
    "    precision_k_7,\n",
    "    support_devices_proportion\n",
    "]\n",
    "\n",
    "embedding_types = [\n",
    "    \"Image Only\",\n",
    "    \"Image + Text\",\n",
    "    \"Image + Text + Metadata\",\n",
    "    \"Report Text\",\n",
    "    \"Metadata\",\n",
    "    \"Report + Metadata\",\n",
    "    \"Image + Metadata\",\n",
    "    \"Baseline\"\n",
    "    \n",
    "]\n",
    "\n",
    "plt.figure(figsize=(6, 6))\n",
    "bars = plt.bar(embedding_types, precision_values, color=\"skyblue\",width=0.4)\n",
    "\n",
    "# for bar, value in zip(bars, precision_values):\n",
    "#     plt.text(bar.get_x() + bar.get_width()/2, bar.get_height(),\n",
    "#              f\"{value:.4f}\", ha='center', va='bottom', fontsize=12)\n",
    "\n",
    "plt.title(f\"Precision@{k} for Different Embedding Types\", fontsize=14)\n",
    "plt.ylabel(f\"Precision@{k}\", fontsize=12)\n",
    "plt.xticks(rotation=45, ha='right', fontsize=12)\n",
    "plt.ylim(0, 1)  \n",
    "plt.tight_layout()\n",
    "plt.show()\n"
   ]
  },
  {
   "cell_type": "code",
   "execution_count": 206,
   "id": "fff6189c",
   "metadata": {},
   "outputs": [
    {
     "data": {
      "text/html": [
       "<div>\n",
       "<style scoped>\n",
       "    .dataframe tbody tr th:only-of-type {\n",
       "        vertical-align: middle;\n",
       "    }\n",
       "\n",
       "    .dataframe tbody tr th {\n",
       "        vertical-align: top;\n",
       "    }\n",
       "\n",
       "    .dataframe thead th {\n",
       "        text-align: right;\n",
       "    }\n",
       "</style>\n",
       "<table border=\"1\" class=\"dataframe\">\n",
       "  <thead>\n",
       "    <tr style=\"text-align: right;\">\n",
       "      <th></th>\n",
       "      <th>token</th>\n",
       "      <th>diff_score</th>\n",
       "      <th>error_count</th>\n",
       "      <th>normal_count</th>\n",
       "    </tr>\n",
       "  </thead>\n",
       "  <tbody>\n",
       "    <tr>\n",
       "      <th>94</th>\n",
       "      <td>cardiomegaly</td>\n",
       "      <td>0.018159</td>\n",
       "      <td>78</td>\n",
       "      <td>2</td>\n",
       "    </tr>\n",
       "    <tr>\n",
       "      <th>704</th>\n",
       "      <td>pulmonary</td>\n",
       "      <td>0.014001</td>\n",
       "      <td>189</td>\n",
       "      <td>33</td>\n",
       "    </tr>\n",
       "    <tr>\n",
       "      <th>517</th>\n",
       "      <td>mild</td>\n",
       "      <td>0.013805</td>\n",
       "      <td>106</td>\n",
       "      <td>13</td>\n",
       "    </tr>\n",
       "    <tr>\n",
       "      <th>243</th>\n",
       "      <td>edema</td>\n",
       "      <td>0.013531</td>\n",
       "      <td>153</td>\n",
       "      <td>24</td>\n",
       "    </tr>\n",
       "    <tr>\n",
       "      <th>705</th>\n",
       "      <td>pulmonary edema</td>\n",
       "      <td>0.012149</td>\n",
       "      <td>119</td>\n",
       "      <td>18</td>\n",
       "    </tr>\n",
       "    <tr>\n",
       "      <th>688</th>\n",
       "      <td>previous</td>\n",
       "      <td>0.011035</td>\n",
       "      <td>74</td>\n",
       "      <td>10</td>\n",
       "    </tr>\n",
       "    <tr>\n",
       "      <th>525</th>\n",
       "      <td>moderate</td>\n",
       "      <td>0.009874</td>\n",
       "      <td>98</td>\n",
       "      <td>17</td>\n",
       "    </tr>\n",
       "    <tr>\n",
       "      <th>526</th>\n",
       "      <td>moderate cardiomegaly</td>\n",
       "      <td>0.009501</td>\n",
       "      <td>29</td>\n",
       "      <td>0</td>\n",
       "    </tr>\n",
       "    <tr>\n",
       "      <th>254</th>\n",
       "      <td>effusions</td>\n",
       "      <td>0.008784</td>\n",
       "      <td>97</td>\n",
       "      <td>16</td>\n",
       "    </tr>\n",
       "    <tr>\n",
       "      <th>500</th>\n",
       "      <td>lung volumes</td>\n",
       "      <td>0.008303</td>\n",
       "      <td>61</td>\n",
       "      <td>9</td>\n",
       "    </tr>\n",
       "  </tbody>\n",
       "</table>\n",
       "</div>"
      ],
      "text/plain": [
       "                     token  diff_score  error_count  normal_count\n",
       "94            cardiomegaly    0.018159           78             2\n",
       "704              pulmonary    0.014001          189            33\n",
       "517                   mild    0.013805          106            13\n",
       "243                  edema    0.013531          153            24\n",
       "705        pulmonary edema    0.012149          119            18\n",
       "688               previous    0.011035           74            10\n",
       "525               moderate    0.009874           98            17\n",
       "526  moderate cardiomegaly    0.009501           29             0\n",
       "254              effusions    0.008784           97            16\n",
       "500           lung volumes    0.008303           61             9"
      ]
     },
     "execution_count": 206,
     "metadata": {},
     "output_type": "execute_result"
    }
   ],
   "source": [
    "c = analyze_error_slice_tokens(test_results, test_results, k, max_features)\n",
    "c.head(10)\n"
   ]
  },
  {
   "cell_type": "code",
   "execution_count": 207,
   "id": "9c4203e3",
   "metadata": {},
   "outputs": [],
   "source": [
    "tokens_slice_1 = analyze_error_slice_tokens(slice_1, test_results, k, max_features)\n",
    "tokens_slice_2 = analyze_error_slice_tokens(slice_2, test_results, k, max_features)\n",
    "tokens_slice_3 = analyze_error_slice_tokens(slice_3, test_results, k, max_features)\n",
    "tokens_slice_4 = analyze_error_slice_tokens(slice_4, test_results, k, max_features)\n",
    "tokens_slice_5 = analyze_error_slice_tokens(slice_5, test_results, k, max_features)\n",
    "tokens_slice_6 = analyze_error_slice_tokens(slice_6, test_results, k, max_features)\n",
    "tokens_slice_7 = analyze_error_slice_tokens(slice_7, test_results, k, max_features)"
   ]
  },
  {
   "cell_type": "code",
   "execution_count": 208,
   "id": "c0227b3b",
   "metadata": {},
   "outputs": [
    {
     "data": {
      "text/html": [
       "<div>\n",
       "<style scoped>\n",
       "    .dataframe tbody tr th:only-of-type {\n",
       "        vertical-align: middle;\n",
       "    }\n",
       "\n",
       "    .dataframe tbody tr th {\n",
       "        vertical-align: top;\n",
       "    }\n",
       "\n",
       "    .dataframe thead th {\n",
       "        text-align: right;\n",
       "    }\n",
       "</style>\n",
       "<table border=\"1\" class=\"dataframe\">\n",
       "  <thead>\n",
       "    <tr style=\"text-align: right;\">\n",
       "      <th></th>\n",
       "      <th>token</th>\n",
       "      <th>diff_score</th>\n",
       "      <th>error_count</th>\n",
       "      <th>normal_count</th>\n",
       "    </tr>\n",
       "  </thead>\n",
       "  <tbody>\n",
       "    <tr>\n",
       "      <th>921</th>\n",
       "      <td>trace</td>\n",
       "      <td>0.072866</td>\n",
       "      <td>3</td>\n",
       "      <td>4</td>\n",
       "    </tr>\n",
       "    <tr>\n",
       "      <th>453</th>\n",
       "      <td>low</td>\n",
       "      <td>0.066067</td>\n",
       "      <td>4</td>\n",
       "      <td>14</td>\n",
       "    </tr>\n",
       "    <tr>\n",
       "      <th>415</th>\n",
       "      <td>lateral</td>\n",
       "      <td>0.064612</td>\n",
       "      <td>6</td>\n",
       "      <td>45</td>\n",
       "    </tr>\n",
       "    <tr>\n",
       "      <th>979</th>\n",
       "      <td>volumes</td>\n",
       "      <td>0.058434</td>\n",
       "      <td>4</td>\n",
       "      <td>17</td>\n",
       "    </tr>\n",
       "    <tr>\n",
       "      <th>942</th>\n",
       "      <td>underwent chest radiography november</td>\n",
       "      <td>0.055048</td>\n",
       "      <td>2</td>\n",
       "      <td>3</td>\n",
       "    </tr>\n",
       "  </tbody>\n",
       "</table>\n",
       "</div>"
      ],
      "text/plain": [
       "                                    token  diff_score  error_count  \\\n",
       "921                                 trace    0.072866            3   \n",
       "453                                   low    0.066067            4   \n",
       "415                               lateral    0.064612            6   \n",
       "979                               volumes    0.058434            4   \n",
       "942  underwent chest radiography november    0.055048            2   \n",
       "\n",
       "     normal_count  \n",
       "921             4  \n",
       "453            14  \n",
       "415            45  \n",
       "979            17  \n",
       "942             3  "
      ]
     },
     "execution_count": 208,
     "metadata": {},
     "output_type": "execute_result"
    }
   ],
   "source": [
    "tokens_slice_1.head()"
   ]
  },
  {
   "cell_type": "code",
   "execution_count": 209,
   "id": "6da88a26",
   "metadata": {},
   "outputs": [
    {
     "data": {
      "text/html": [
       "<div>\n",
       "<style scoped>\n",
       "    .dataframe tbody tr th:only-of-type {\n",
       "        vertical-align: middle;\n",
       "    }\n",
       "\n",
       "    .dataframe tbody tr th {\n",
       "        vertical-align: top;\n",
       "    }\n",
       "\n",
       "    .dataframe thead th {\n",
       "        text-align: right;\n",
       "    }\n",
       "</style>\n",
       "<table border=\"1\" class=\"dataframe\">\n",
       "  <thead>\n",
       "    <tr style=\"text-align: right;\">\n",
       "      <th></th>\n",
       "      <th>token</th>\n",
       "      <th>diff_score</th>\n",
       "      <th>error_count</th>\n",
       "      <th>normal_count</th>\n",
       "    </tr>\n",
       "  </thead>\n",
       "  <tbody>\n",
       "    <tr>\n",
       "      <th>805</th>\n",
       "      <td>right</td>\n",
       "      <td>0.035015</td>\n",
       "      <td>85</td>\n",
       "      <td>151</td>\n",
       "    </tr>\n",
       "    <tr>\n",
       "      <th>493</th>\n",
       "      <td>lower</td>\n",
       "      <td>0.034325</td>\n",
       "      <td>28</td>\n",
       "      <td>27</td>\n",
       "    </tr>\n",
       "    <tr>\n",
       "      <th>496</th>\n",
       "      <td>lower lung</td>\n",
       "      <td>0.026152</td>\n",
       "      <td>11</td>\n",
       "      <td>3</td>\n",
       "    </tr>\n",
       "    <tr>\n",
       "      <th>63</th>\n",
       "      <td>base</td>\n",
       "      <td>0.023546</td>\n",
       "      <td>13</td>\n",
       "      <td>9</td>\n",
       "    </tr>\n",
       "    <tr>\n",
       "      <th>497</th>\n",
       "      <td>lung</td>\n",
       "      <td>0.023197</td>\n",
       "      <td>39</td>\n",
       "      <td>62</td>\n",
       "    </tr>\n",
       "  </tbody>\n",
       "</table>\n",
       "</div>"
      ],
      "text/plain": [
       "          token  diff_score  error_count  normal_count\n",
       "805       right    0.035015           85           151\n",
       "493       lower    0.034325           28            27\n",
       "496  lower lung    0.026152           11             3\n",
       "63         base    0.023546           13             9\n",
       "497        lung    0.023197           39            62"
      ]
     },
     "execution_count": 209,
     "metadata": {},
     "output_type": "execute_result"
    }
   ],
   "source": [
    "tokens_slice_2.head()"
   ]
  },
  {
   "cell_type": "code",
   "execution_count": 210,
   "id": "d507c8ed",
   "metadata": {},
   "outputs": [
    {
     "data": {
      "text/html": [
       "<div>\n",
       "<style scoped>\n",
       "    .dataframe tbody tr th:only-of-type {\n",
       "        vertical-align: middle;\n",
       "    }\n",
       "\n",
       "    .dataframe tbody tr th {\n",
       "        vertical-align: top;\n",
       "    }\n",
       "\n",
       "    .dataframe thead th {\n",
       "        text-align: right;\n",
       "    }\n",
       "</style>\n",
       "<table border=\"1\" class=\"dataframe\">\n",
       "  <thead>\n",
       "    <tr style=\"text-align: right;\">\n",
       "      <th></th>\n",
       "      <th>token</th>\n",
       "      <th>diff_score</th>\n",
       "      <th>error_count</th>\n",
       "      <th>normal_count</th>\n",
       "    </tr>\n",
       "  </thead>\n",
       "  <tbody>\n",
       "    <tr>\n",
       "      <th>429</th>\n",
       "      <td>lateral</td>\n",
       "      <td>0.068435</td>\n",
       "      <td>36</td>\n",
       "      <td>45</td>\n",
       "    </tr>\n",
       "    <tr>\n",
       "      <th>431</th>\n",
       "      <td>lateral view</td>\n",
       "      <td>0.046789</td>\n",
       "      <td>24</td>\n",
       "      <td>26</td>\n",
       "    </tr>\n",
       "    <tr>\n",
       "      <th>195</th>\n",
       "      <td>cough</td>\n",
       "      <td>0.045476</td>\n",
       "      <td>7</td>\n",
       "      <td>0</td>\n",
       "    </tr>\n",
       "    <tr>\n",
       "      <th>436</th>\n",
       "      <td>lateral view patient upright</td>\n",
       "      <td>0.045226</td>\n",
       "      <td>12</td>\n",
       "      <td>8</td>\n",
       "    </tr>\n",
       "    <tr>\n",
       "      <th>434</th>\n",
       "      <td>lateral view patient</td>\n",
       "      <td>0.044812</td>\n",
       "      <td>20</td>\n",
       "      <td>25</td>\n",
       "    </tr>\n",
       "  </tbody>\n",
       "</table>\n",
       "</div>"
      ],
      "text/plain": [
       "                            token  diff_score  error_count  normal_count\n",
       "429                       lateral    0.068435           36            45\n",
       "431                  lateral view    0.046789           24            26\n",
       "195                         cough    0.045476            7             0\n",
       "436  lateral view patient upright    0.045226           12             8\n",
       "434          lateral view patient    0.044812           20            25"
      ]
     },
     "execution_count": 210,
     "metadata": {},
     "output_type": "execute_result"
    }
   ],
   "source": [
    "tokens_slice_3.head()"
   ]
  },
  {
   "cell_type": "code",
   "execution_count": 211,
   "id": "464eafd7",
   "metadata": {},
   "outputs": [
    {
     "data": {
      "text/html": [
       "<div>\n",
       "<style scoped>\n",
       "    .dataframe tbody tr th:only-of-type {\n",
       "        vertical-align: middle;\n",
       "    }\n",
       "\n",
       "    .dataframe tbody tr th {\n",
       "        vertical-align: top;\n",
       "    }\n",
       "\n",
       "    .dataframe thead th {\n",
       "        text-align: right;\n",
       "    }\n",
       "</style>\n",
       "<table border=\"1\" class=\"dataframe\">\n",
       "  <thead>\n",
       "    <tr style=\"text-align: right;\">\n",
       "      <th></th>\n",
       "      <th>token</th>\n",
       "      <th>diff_score</th>\n",
       "      <th>error_count</th>\n",
       "      <th>normal_count</th>\n",
       "    </tr>\n",
       "  </thead>\n",
       "  <tbody>\n",
       "    <tr>\n",
       "      <th>565</th>\n",
       "      <td>pa lat</td>\n",
       "      <td>0.055817</td>\n",
       "      <td>13</td>\n",
       "      <td>12</td>\n",
       "    </tr>\n",
       "    <tr>\n",
       "      <th>438</th>\n",
       "      <td>lat</td>\n",
       "      <td>0.055817</td>\n",
       "      <td>13</td>\n",
       "      <td>12</td>\n",
       "    </tr>\n",
       "    <tr>\n",
       "      <th>132</th>\n",
       "      <td>chest pa lat</td>\n",
       "      <td>0.055817</td>\n",
       "      <td>13</td>\n",
       "      <td>12</td>\n",
       "    </tr>\n",
       "    <tr>\n",
       "      <th>131</th>\n",
       "      <td>chest pa</td>\n",
       "      <td>0.055817</td>\n",
       "      <td>13</td>\n",
       "      <td>12</td>\n",
       "    </tr>\n",
       "    <tr>\n",
       "      <th>441</th>\n",
       "      <td>lat indication year old</td>\n",
       "      <td>0.051527</td>\n",
       "      <td>12</td>\n",
       "      <td>11</td>\n",
       "    </tr>\n",
       "  </tbody>\n",
       "</table>\n",
       "</div>"
      ],
      "text/plain": [
       "                       token  diff_score  error_count  normal_count\n",
       "565                   pa lat    0.055817           13            12\n",
       "438                      lat    0.055817           13            12\n",
       "132             chest pa lat    0.055817           13            12\n",
       "131                 chest pa    0.055817           13            12\n",
       "441  lat indication year old    0.051527           12            11"
      ]
     },
     "execution_count": 211,
     "metadata": {},
     "output_type": "execute_result"
    }
   ],
   "source": [
    "tokens_slice_4.head()"
   ]
  },
  {
   "cell_type": "code",
   "execution_count": 212,
   "id": "e65eb344",
   "metadata": {},
   "outputs": [
    {
     "data": {
      "text/html": [
       "<div>\n",
       "<style scoped>\n",
       "    .dataframe tbody tr th:only-of-type {\n",
       "        vertical-align: middle;\n",
       "    }\n",
       "\n",
       "    .dataframe tbody tr th {\n",
       "        vertical-align: top;\n",
       "    }\n",
       "\n",
       "    .dataframe thead th {\n",
       "        text-align: right;\n",
       "    }\n",
       "</style>\n",
       "<table border=\"1\" class=\"dataframe\">\n",
       "  <thead>\n",
       "    <tr style=\"text-align: right;\">\n",
       "      <th></th>\n",
       "      <th>token</th>\n",
       "      <th>diff_score</th>\n",
       "      <th>error_count</th>\n",
       "      <th>normal_count</th>\n",
       "    </tr>\n",
       "  </thead>\n",
       "  <tbody>\n",
       "    <tr>\n",
       "      <th>593</th>\n",
       "      <td>performed lateral view</td>\n",
       "      <td>0.045978</td>\n",
       "      <td>10</td>\n",
       "      <td>25</td>\n",
       "    </tr>\n",
       "    <tr>\n",
       "      <th>294</th>\n",
       "      <td>examination performed lateral view</td>\n",
       "      <td>0.045978</td>\n",
       "      <td>10</td>\n",
       "      <td>25</td>\n",
       "    </tr>\n",
       "    <tr>\n",
       "      <th>592</th>\n",
       "      <td>performed lateral</td>\n",
       "      <td>0.045978</td>\n",
       "      <td>10</td>\n",
       "      <td>25</td>\n",
       "    </tr>\n",
       "    <tr>\n",
       "      <th>594</th>\n",
       "      <td>performed lateral view patient</td>\n",
       "      <td>0.045978</td>\n",
       "      <td>10</td>\n",
       "      <td>25</td>\n",
       "    </tr>\n",
       "    <tr>\n",
       "      <th>362</th>\n",
       "      <td>hours examination performed lateral</td>\n",
       "      <td>0.045978</td>\n",
       "      <td>10</td>\n",
       "      <td>25</td>\n",
       "    </tr>\n",
       "  </tbody>\n",
       "</table>\n",
       "</div>"
      ],
      "text/plain": [
       "                                   token  diff_score  error_count  \\\n",
       "593               performed lateral view    0.045978           10   \n",
       "294   examination performed lateral view    0.045978           10   \n",
       "592                    performed lateral    0.045978           10   \n",
       "594       performed lateral view patient    0.045978           10   \n",
       "362  hours examination performed lateral    0.045978           10   \n",
       "\n",
       "     normal_count  \n",
       "593            25  \n",
       "294            25  \n",
       "592            25  \n",
       "594            25  \n",
       "362            25  "
      ]
     },
     "execution_count": 212,
     "metadata": {},
     "output_type": "execute_result"
    }
   ],
   "source": [
    "tokens_slice_5.head()"
   ]
  },
  {
   "cell_type": "code",
   "execution_count": 213,
   "id": "96d13e49",
   "metadata": {},
   "outputs": [
    {
     "data": {
      "text/html": [
       "<div>\n",
       "<style scoped>\n",
       "    .dataframe tbody tr th:only-of-type {\n",
       "        vertical-align: middle;\n",
       "    }\n",
       "\n",
       "    .dataframe tbody tr th {\n",
       "        vertical-align: top;\n",
       "    }\n",
       "\n",
       "    .dataframe thead th {\n",
       "        text-align: right;\n",
       "    }\n",
       "</style>\n",
       "<table border=\"1\" class=\"dataframe\">\n",
       "  <thead>\n",
       "    <tr style=\"text-align: right;\">\n",
       "      <th></th>\n",
       "      <th>token</th>\n",
       "      <th>diff_score</th>\n",
       "      <th>error_count</th>\n",
       "      <th>normal_count</th>\n",
       "    </tr>\n",
       "  </thead>\n",
       "  <tbody>\n",
       "    <tr>\n",
       "      <th>449</th>\n",
       "      <td>lateral</td>\n",
       "      <td>0.069341</td>\n",
       "      <td>47</td>\n",
       "      <td>45</td>\n",
       "    </tr>\n",
       "    <tr>\n",
       "      <th>572</th>\n",
       "      <td>pa</td>\n",
       "      <td>0.051279</td>\n",
       "      <td>29</td>\n",
       "      <td>24</td>\n",
       "    </tr>\n",
       "    <tr>\n",
       "      <th>453</th>\n",
       "      <td>lateral view</td>\n",
       "      <td>0.043271</td>\n",
       "      <td>28</td>\n",
       "      <td>26</td>\n",
       "    </tr>\n",
       "    <tr>\n",
       "      <th>133</th>\n",
       "      <td>chest pa lat</td>\n",
       "      <td>0.042063</td>\n",
       "      <td>18</td>\n",
       "      <td>12</td>\n",
       "    </tr>\n",
       "    <tr>\n",
       "      <th>573</th>\n",
       "      <td>pa lat</td>\n",
       "      <td>0.042063</td>\n",
       "      <td>18</td>\n",
       "      <td>12</td>\n",
       "    </tr>\n",
       "  </tbody>\n",
       "</table>\n",
       "</div>"
      ],
      "text/plain": [
       "            token  diff_score  error_count  normal_count\n",
       "449       lateral    0.069341           47            45\n",
       "572            pa    0.051279           29            24\n",
       "453  lateral view    0.043271           28            26\n",
       "133  chest pa lat    0.042063           18            12\n",
       "573        pa lat    0.042063           18            12"
      ]
     },
     "execution_count": 213,
     "metadata": {},
     "output_type": "execute_result"
    }
   ],
   "source": [
    "tokens_slice_6.head()"
   ]
  },
  {
   "cell_type": "code",
   "execution_count": 214,
   "id": "57702922",
   "metadata": {},
   "outputs": [
    {
     "data": {
      "text/html": [
       "<div>\n",
       "<style scoped>\n",
       "    .dataframe tbody tr th:only-of-type {\n",
       "        vertical-align: middle;\n",
       "    }\n",
       "\n",
       "    .dataframe tbody tr th {\n",
       "        vertical-align: top;\n",
       "    }\n",
       "\n",
       "    .dataframe thead th {\n",
       "        text-align: right;\n",
       "    }\n",
       "</style>\n",
       "<table border=\"1\" class=\"dataframe\">\n",
       "  <thead>\n",
       "    <tr style=\"text-align: right;\">\n",
       "      <th></th>\n",
       "      <th>token</th>\n",
       "      <th>diff_score</th>\n",
       "      <th>error_count</th>\n",
       "      <th>normal_count</th>\n",
       "    </tr>\n",
       "  </thead>\n",
       "  <tbody>\n",
       "    <tr>\n",
       "      <th>440</th>\n",
       "      <td>lateral</td>\n",
       "      <td>0.048418</td>\n",
       "      <td>19</td>\n",
       "      <td>45</td>\n",
       "    </tr>\n",
       "    <tr>\n",
       "      <th>443</th>\n",
       "      <td>lateral view patient</td>\n",
       "      <td>0.045768</td>\n",
       "      <td>15</td>\n",
       "      <td>25</td>\n",
       "    </tr>\n",
       "    <tr>\n",
       "      <th>291</th>\n",
       "      <td>examination performed lateral</td>\n",
       "      <td>0.045768</td>\n",
       "      <td>15</td>\n",
       "      <td>25</td>\n",
       "    </tr>\n",
       "    <tr>\n",
       "      <th>594</th>\n",
       "      <td>performed lateral view patient</td>\n",
       "      <td>0.045768</td>\n",
       "      <td>15</td>\n",
       "      <td>25</td>\n",
       "    </tr>\n",
       "    <tr>\n",
       "      <th>370</th>\n",
       "      <td>hours examination performed lateral</td>\n",
       "      <td>0.045768</td>\n",
       "      <td>15</td>\n",
       "      <td>25</td>\n",
       "    </tr>\n",
       "  </tbody>\n",
       "</table>\n",
       "</div>"
      ],
      "text/plain": [
       "                                   token  diff_score  error_count  \\\n",
       "440                              lateral    0.048418           19   \n",
       "443                 lateral view patient    0.045768           15   \n",
       "291        examination performed lateral    0.045768           15   \n",
       "594       performed lateral view patient    0.045768           15   \n",
       "370  hours examination performed lateral    0.045768           15   \n",
       "\n",
       "     normal_count  \n",
       "440            45  \n",
       "443            25  \n",
       "291            25  \n",
       "594            25  \n",
       "370            25  "
      ]
     },
     "execution_count": 214,
     "metadata": {},
     "output_type": "execute_result"
    }
   ],
   "source": [
    "tokens_slice_7.head()"
   ]
  },
  {
   "cell_type": "code",
   "execution_count": 292,
   "id": "2c1aebee",
   "metadata": {},
   "outputs": [
    {
     "name": "stdout",
     "output_type": "stream",
     "text": [
      "Number of test samples with Position = 0 and Cardiomegaly = 1: 30\n",
      "Number of test samples with Position != 0 or Cardiomegaly != 1: 270\n"
     ]
    }
   ],
   "source": [
    "# label_2 = 0 and label_1 = 1\n",
    "seed =43\n",
    "test_underperforming = test_df[(test_df[label_2] == 0) & (test_df[label_1] == 1)].copy()\n",
    "test_rest = test_df[(test_df[label_2] != 0) | (test_df[label_1] != 1)].copy()\n",
    "test_1 = test_underperforming.sample(n=30, random_state=seed).reset_index(drop=True)\n",
    "print(f\"Number of test samples with {label_2} = 0 and {label_1} = 1: {len(test_1)}\")\n",
    "test_2 = test_rest.sample(n=270, random_state=seed).reset_index(drop=True)\n",
    "print(f\"Number of test samples with {label_2} != 0 or {label_1} != 1: {len(test_2)}\")\n",
    "test = pd.concat([test_1, test_2], ignore_index=True)   \n",
    "#shuffle the test set\n",
    "test = test.sample(frac=1, random_state=seed).reset_index(drop=True)"
   ]
  },
  {
   "cell_type": "code",
   "execution_count": 293,
   "id": "29b51b7a",
   "metadata": {},
   "outputs": [
    {
     "data": {
      "text/html": [
       "<div>\n",
       "<style scoped>\n",
       "    .dataframe tbody tr th:only-of-type {\n",
       "        vertical-align: middle;\n",
       "    }\n",
       "\n",
       "    .dataframe tbody tr th {\n",
       "        vertical-align: top;\n",
       "    }\n",
       "\n",
       "    .dataframe thead th {\n",
       "        text-align: right;\n",
       "    }\n",
       "</style>\n",
       "<table border=\"1\" class=\"dataframe\">\n",
       "  <thead>\n",
       "    <tr style=\"text-align: right;\">\n",
       "      <th>Cardiomegaly</th>\n",
       "      <th>0.0</th>\n",
       "      <th>1.0</th>\n",
       "    </tr>\n",
       "    <tr>\n",
       "      <th>Position</th>\n",
       "      <th></th>\n",
       "      <th></th>\n",
       "    </tr>\n",
       "  </thead>\n",
       "  <tbody>\n",
       "    <tr>\n",
       "      <th>0</th>\n",
       "      <td>29</td>\n",
       "      <td>30</td>\n",
       "    </tr>\n",
       "    <tr>\n",
       "      <th>1</th>\n",
       "      <td>158</td>\n",
       "      <td>83</td>\n",
       "    </tr>\n",
       "  </tbody>\n",
       "</table>\n",
       "</div>"
      ],
      "text/plain": [
       "Cardiomegaly  0.0  1.0\n",
       "Position              \n",
       "0              29   30\n",
       "1             158   83"
      ]
     },
     "execution_count": 293,
     "metadata": {},
     "output_type": "execute_result"
    }
   ],
   "source": [
    "test.groupby(['Position', 'Cardiomegaly']).size().unstack(fill_value=0)"
   ]
  },
  {
   "cell_type": "code",
   "execution_count": 294,
   "id": "a96de1c5",
   "metadata": {},
   "outputs": [
    {
     "name": "stdout",
     "output_type": "stream",
     "text": [
      "Evaluating best model...\n",
      "Loading cached complete file map...\n",
      "Cache loaded successfully! Found 199501 pairs.\n",
      "Filtering valid samples for test set...\n"
     ]
    },
    {
     "name": "stderr",
     "output_type": "stream",
     "text": [
      "100%|██████████| 300/300 [00:05<00:00, 52.48it/s]\n"
     ]
    },
    {
     "name": "stdout",
     "output_type": "stream",
     "text": [
      "Original test samples: 300\n",
      "Valid test samples: 300\n",
      "Missing test samples: 0\n"
     ]
    },
    {
     "name": "stderr",
     "output_type": "stream",
     "text": [
      "Testing: 100%|██████████| 38/38 [00:15<00:00,  2.45it/s]\n"
     ]
    },
    {
     "name": "stdout",
     "output_type": "stream",
     "text": [
      "Test Accuracy: 0.6133\n"
     ]
    }
   ],
   "source": [
    "test_results_2 = evaluate_best_model(best_model, test, root_folder, label_1)"
   ]
  },
  {
   "cell_type": "code",
   "execution_count": 295,
   "id": "062cc010",
   "metadata": {},
   "outputs": [
    {
     "name": "stdout",
     "output_type": "stream",
     "text": [
      "Test set accuracy for Position = 0 (lateral): 0.6000\n",
      "Test set accuracy for Position = 1 (frontal): 0.7229\n"
     ]
    }
   ],
   "source": [
    "#calculate the accuracy for the test set\n",
    "test_results_0 = test_results_2[test_results_2[label_1] == 1].copy()\n",
    "test_results_0_lateral = test_results_0[test_results_0[label_2] == 0].copy()\n",
    "test_results_0_frontal = test_results_0[test_results_0[label_2] == 1].copy()\n",
    "# accuracy for the test set\n",
    "test_results_0_lateral_acc = accuracy_score(test_results_0_lateral[\"true\"], test_results_0_lateral[\"predicted\"])\n",
    "test_results_0_frontal_acc = accuracy_score(test_results_0_frontal[\"true\"], test_results_0_frontal[\"predicted\"])\n",
    "print(f\"Test set accuracy for {label_2} = 0 (lateral): {test_results_0_lateral_acc:.4f}\")\n",
    "print(f\"Test set accuracy for {label_2} = 1 (frontal): {test_results_0_frontal_acc:.4f}\")"
   ]
  },
  {
   "cell_type": "code",
   "execution_count": 296,
   "id": "f0d2ca97",
   "metadata": {},
   "outputs": [
    {
     "name": "stderr",
     "output_type": "stream",
     "text": [
      " 13%|\u001b[38;2;241;122;74m█▎        \u001b[0m| 13/100 [00:00<00:00, 779.27it/s]\n",
      " 21%|\u001b[38;2;241;122;74m██        \u001b[0m| 21/100 [00:00<00:00, 783.16it/s]\n",
      " 15%|\u001b[38;2;241;122;74m█▌        \u001b[0m| 15/100 [00:00<00:00, 636.24it/s]\n",
      " 30%|\u001b[38;2;241;122;74m███       \u001b[0m| 30/100 [00:00<00:00, 475.04it/s]\n",
      "  1%|\u001b[38;2;241;122;74m          \u001b[0m| 1/100 [00:00<00:00, 256.99it/s]\n",
      " 11%|\u001b[38;2;241;122;74m█         \u001b[0m| 11/100 [00:00<00:00, 888.97it/s]\n",
      " 17%|\u001b[38;2;241;122;74m█▋        \u001b[0m| 17/100 [00:00<00:00, 804.41it/s]\n"
     ]
    }
   ],
   "source": [
    "mk_df = create_meerkat_datapanel(test_results_2, selected_columns)\n",
    "mk_df = domino_wrapper(mk_df, 'image_embedding', 'true', 'slice_image_only', 'predicted')\n",
    "mk_df = domino_wrapper(mk_df, 'combined_embedding', 'true', 'slice_image_text', 'predicted')\n",
    "mk_df = domino_wrapper(mk_df, 'combined_emebdding_v2', 'true', 'slice_image_text_meta', 'predicted')\n",
    "mk_df = domino_wrapper(mk_df, \"report_embedding\", 'true', 'slice_report_text', 'predicted')\n",
    "mk_df = domino_wrapper(mk_df, \"metadata_embedding\", 'true', 'slice_metadata', 'predicted')\n",
    "mk_df = domino_wrapper(mk_df, \"combined_embedding_v3\", 'true', 'slice_report_metadata', 'predicted')\n",
    "mk_df = domino_wrapper(mk_df, \"combined_embedding_v4\", 'true', 'slice_image_metadata', 'predicted')"
   ]
  },
  {
   "cell_type": "code",
   "execution_count": 297,
   "id": "15ea963e",
   "metadata": {},
   "outputs": [
    {
     "name": "stdout",
     "output_type": "stream",
     "text": [
      "Precision@10 for Image Only Slice: 0.2000\n",
      "Precision@10 for Image + Text Slice: 0.0000\n",
      "Precision@10 for Image + Text + Metadata Slice: 0.0000\n",
      "Precision@10 for Report Text Slice: 0.2000\n",
      "Precision@10 for Metadata Slice: 0.0000\n",
      "Precision@10 for Report + Metadata Slice: 0.0000\n",
      "Precision@10 for Image + Metadata Slice: 0.5000\n"
     ]
    }
   ],
   "source": [
    "slice_1, precision_k_1 = best_precision_slice('slice_image_only', mk_df, label_2, label_1_values, k, attribute)\n",
    "slice_2, precision_k_2 = best_precision_slice('slice_image_text', mk_df, label_2, label_1_values, k, attribute)\n",
    "slice_3, precision_k_3 = best_precision_slice('slice_image_text_meta', mk_df, label_2, label_1_values, k, attribute)\n",
    "slice_4, precision_k_4 = best_precision_slice('slice_report_text', mk_df, label_2, label_1_values, k, attribute)\n",
    "slice_5, precision_k_5 = best_precision_slice('slice_metadata', mk_df, label_2, label_1_values, k, attribute)\n",
    "slice_6, precision_k_6 = best_precision_slice('slice_report_metadata', mk_df, label_2, label_1_values, k, attribute)\n",
    "slice_7, precision_k_7 = best_precision_slice('slice_image_metadata', mk_df, label_2, label_1_values, k, attribute)\n",
    "\n",
    "\n",
    "print(f\"Precision@{k} for Image Only Slice: {precision_k_1:.4f}\")\n",
    "print(f\"Precision@{k} for Image + Text Slice: {precision_k_2:.4f}\")\n",
    "print(f\"Precision@{k} for Image + Text + Metadata Slice: {precision_k_3:.4f}\")\n",
    "print(f\"Precision@{k} for Report Text Slice: {precision_k_4:.4f}\")\n",
    "print(f\"Precision@{k} for Metadata Slice: {precision_k_5:.4f}\")\n",
    "print(f\"Precision@{k} for Report + Metadata Slice: {precision_k_6:.4f}\")\n",
    "print(f\"Precision@{k} for Image + Metadata Slice: {precision_k_7:.4f}\")\n",
    "\n",
    "\n",
    "tokens_slice_1 = analyze_error_slice_tokens(slice_1, test_results, k, max_features)\n",
    "tokens_slice_2 = analyze_error_slice_tokens(slice_2, test_results, k, max_features)\n",
    "tokens_slice_3 = analyze_error_slice_tokens(slice_3, test_results, k, max_features)\n",
    "tokens_slice_4 = analyze_error_slice_tokens(slice_4, test_results, k, max_features)\n",
    "tokens_slice_5 = analyze_error_slice_tokens(slice_5, test_results, k, max_features)\n",
    "tokens_slice_6 = analyze_error_slice_tokens(slice_6, test_results, k, max_features)\n",
    "tokens_slice_7 = analyze_error_slice_tokens(slice_7, test_results, k, max_features)"
   ]
  },
  {
   "cell_type": "code",
   "execution_count": 298,
   "id": "a91c12c7",
   "metadata": {},
   "outputs": [
    {
     "name": "stdout",
     "output_type": "stream",
     "text": [
      "Support Devices Proportion in Incorrect Predictions: 0.1983\n"
     ]
    }
   ],
   "source": [
    "# the samples with wrong predictions\n",
    "test_results_incorrect = test_results_2[test_results_2['true'] != test_results_2['predicted']].copy()\n",
    "# calculate the suppoting devices proportion\n",
    "test_results_incorrect['Position'] = test_results_incorrect['Position'].fillna(0)\n",
    "support_devices_count = test_results_incorrect['Position'].sum()\n",
    "total_count = len(test_results_incorrect)\n",
    "support_devices_proportion = 1- (support_devices_count / total_count if total_count > 0 else 0)\n",
    "print(f\"Support Devices Proportion in Incorrect Predictions: {support_devices_proportion:.4f}\")"
   ]
  },
  {
   "cell_type": "code",
   "execution_count": 299,
   "id": "9e1beb52",
   "metadata": {},
   "outputs": [
    {
     "data": {
      "image/png": "[encoded data removed]",
      "text/plain": [
       "<Figure size 600x600 with 1 Axes>"
      ]
     },
     "metadata": {},
     "output_type": "display_data"
    }
   ],
   "source": [
    "\n",
    "\n",
    "\n",
    "k = 10\n",
    "precision_values = [\n",
    "    precision_k_1,\n",
    "    precision_k_2,\n",
    "    precision_k_3,\n",
    "    precision_k_4,\n",
    "    precision_k_5,\n",
    "    precision_k_6,\n",
    "    precision_k_7,\n",
    "    support_devices_proportion\n",
    "]\n",
    "\n",
    "embedding_types = [\n",
    "    \"Image Only\",\n",
    "    \"Image + Text\",\n",
    "    \"Image + Text + Metadata\",\n",
    "    \"Report Text\",\n",
    "    \"Metadata\",\n",
    "    \"Report + Metadata\",\n",
    "    \"Image + Metadata\",\n",
    "    \"Baseline\"\n",
    "    \n",
    "]\n",
    "\n",
    "plt.figure(figsize=(6, 6))\n",
    "bars = plt.bar(embedding_types, precision_values, color=\"lightcoral\",width=0.4)\n",
    "\n",
    "# for bar, value in zip(bars, precision_values):\n",
    "#     plt.text(bar.get_x() + bar.get_width()/2, bar.get_height(),\n",
    "#              f\"{value:.4f}\", ha='center', va='bottom', fontsize=12)\n",
    "\n",
    "plt.title(\n",
    "    f\"Precision@{k} on Error Slice (10% of Test Set)\\n\",\n",
    "    fontsize=14\n",
    ")\n",
    "plt.ylabel(f\"Precision@{k}\", fontsize=12)\n",
    "plt.xticks(rotation=45, ha='right', fontsize=12)\n",
    "plt.ylim(0, 1)  \n",
    "plt.tight_layout()\n",
    "plt.show()"
   ]
  },
  {
   "cell_type": "code",
   "execution_count": 272,
   "id": "5f44de79",
   "metadata": {},
   "outputs": [
    {
     "name": "stdout",
     "output_type": "stream",
     "text": [
      "Number of test samples with Position = 0 and Cardiomegaly = 1: 15\n",
      "Number of test samples with Position != 0 or Cardiomegaly != 1: 285\n"
     ]
    }
   ],
   "source": [
    "seed =41\n",
    "test_underperforming = test_df[(test_df[label_2] == 0) & (test_df[label_1] == 1)].copy()\n",
    "test_rest = test_df[(test_df[label_2] != 0) | (test_df[label_1] != 1        \n",
    ")].copy()\n",
    "test_1 = test_underperforming.sample(n=15, random_state=seed).reset_index(drop=True)\n",
    "print(f\"Number of test samples with {label_2} = 0 and {label_1} = 1: {len(test_1)}\")\n",
    "test_2 = test_rest.sample(n=285, random_state=seed).reset_index(drop=True)\n",
    "print(f\"Number of test samples with {label_2} != 0 or {label_1} != 1: {len(test_2)}\")\n",
    "test = pd.concat([test_1, test_2], ignore_index=True)   \n",
    "#shuffle the test set\n",
    "test = test.sample(frac=1, random_state=seed).reset_index(drop=True)"
   ]
  },
  {
   "cell_type": "code",
   "execution_count": 273,
   "id": "192befad",
   "metadata": {},
   "outputs": [
    {
     "name": "stdout",
     "output_type": "stream",
     "text": [
      "Evaluating best model...\n",
      "Loading cached complete file map...\n",
      "Cache loaded successfully! Found 199501 pairs.\n",
      "Filtering valid samples for test set...\n"
     ]
    },
    {
     "name": "stderr",
     "output_type": "stream",
     "text": [
      "100%|██████████| 300/300 [00:08<00:00, 33.48it/s]\n"
     ]
    },
    {
     "name": "stdout",
     "output_type": "stream",
     "text": [
      "Original test samples: 300\n",
      "Valid test samples: 300\n",
      "Missing test samples: 0\n"
     ]
    },
    {
     "name": "stderr",
     "output_type": "stream",
     "text": [
      "Testing: 100%|██████████| 38/38 [00:50<00:00,  1.32s/it]"
     ]
    },
    {
     "name": "stdout",
     "output_type": "stream",
     "text": [
      "Test Accuracy: 0.5367\n"
     ]
    },
    {
     "name": "stderr",
     "output_type": "stream",
     "text": [
      "\n"
     ]
    }
   ],
   "source": [
    "test_results_3 = evaluate_best_model(best_model, test, root_folder, label_1)\n",
    "#calculate the accuracy for the test set"
   ]
  },
  {
   "cell_type": "code",
   "execution_count": 270,
   "id": "8a92c8e1",
   "metadata": {},
   "outputs": [
    {
     "name": "stderr",
     "output_type": "stream",
     "text": [
      " 26%|\u001b[38;2;241;122;74m██▌       \u001b[0m| 26/100 [00:00<00:00, 531.06it/s]\n",
      " 11%|\u001b[38;2;241;122;74m█         \u001b[0m| 11/100 [00:00<00:00, 629.22it/s]\n",
      " 34%|\u001b[38;2;241;122;74m███▍      \u001b[0m| 34/100 [00:00<00:00, 715.97it/s]\n",
      " 39%|\u001b[38;2;241;122;74m███▉      \u001b[0m| 39/100 [00:00<00:00, 460.89it/s]\n",
      "  1%|\u001b[38;2;241;122;74m          \u001b[0m| 1/100 [00:00<00:01, 69.40it/s]\n",
      "  8%|\u001b[38;2;241;122;74m▊         \u001b[0m| 8/100 [00:00<00:00, 134.12it/s]\n",
      " 20%|\u001b[38;2;241;122;74m██        \u001b[0m| 20/100 [00:00<00:00, 755.12it/s]\n"
     ]
    }
   ],
   "source": [
    "mk_df = create_meerkat_datapanel(test_results_3, selected_columns)\n",
    "mk_df = domino_wrapper(mk_df, 'image_embedding', 'true', 'slice_image_only', 'predicted')\n",
    "mk_df = domino_wrapper(mk_df, 'combined_embedding', 'true', 'slice_image_text', 'predicted')\n",
    "mk_df = domino_wrapper(mk_df, 'combined_emebdding_v2', 'true', 'slice_image_text_meta', 'predicted')\n",
    "mk_df = domino_wrapper(mk_df, \"report_embedding\", 'true', 'slice_report_text', 'predicted')\n",
    "mk_df = domino_wrapper(mk_df, \"metadata_embedding\", 'true', 'slice_metadata', 'predicted')\n",
    "mk_df = domino_wrapper(mk_df, \"combined_embedding_v3\", 'true', 'slice_report_metadata', 'predicted')\n",
    "mk_df = domino_wrapper(mk_df, \"combined_embedding_v4\", 'true', 'slice_image_metadata', 'predicted')"
   ]
  },
  {
   "cell_type": "code",
   "execution_count": 275,
   "id": "c4757740",
   "metadata": {},
   "outputs": [
    {
     "name": "stdout",
     "output_type": "stream",
     "text": [
      "Precision@10 for Image Only Slice: 0.0000\n",
      "Precision@10 for Image + Text Slice: 0.0000\n",
      "Precision@10 for Image + Text + Metadata Slice: 0.0000\n",
      "Precision@10 for Report Text Slice: 0.1000\n",
      "Precision@10 for Metadata Slice: 0.0000\n",
      "Precision@10 for Report + Metadata Slice: 0.0000\n",
      "Precision@10 for Image + Metadata Slice: 0.0000\n"
     ]
    }
   ],
   "source": [
    "slice_1, precision_k_1 = best_precision_slice('slice_image_only', mk_df, label_2, label_1_values, k, attribute)\n",
    "slice_2, precision_k_2 = best_precision_slice('slice_image_text', mk_df, label_2, label_1_values, k, attribute)\n",
    "slice_3, precision_k_3 = best_precision_slice('slice_image_text_meta', mk_df, label_2, label_1_values, k, attribute)\n",
    "slice_4, precision_k_4 = best_precision_slice('slice_report_text', mk_df, label_2, label_1_values, k, attribute)\n",
    "slice_5, precision_k_5 = best_precision_slice('slice_metadata', mk_df, label_2, label_1_values, k, attribute)\n",
    "slice_6, precision_k_6 = best_precision_slice('slice_report_metadata', mk_df, label_2, label_1_values, k, attribute)\n",
    "slice_7, precision_k_7 = best_precision_slice('slice_image_metadata', mk_df, label_2, label_1_values, k, attribute)\n",
    "\n",
    "\n",
    "print(f\"Precision@{k} for Image Only Slice: {precision_k_1:.4f}\")\n",
    "print(f\"Precision@{k} for Image + Text Slice: {precision_k_2:.4f}\")\n",
    "print(f\"Precision@{k} for Image + Text + Metadata Slice: {precision_k_3:.4f}\")\n",
    "print(f\"Precision@{k} for Report Text Slice: {precision_k_4:.4f}\")\n",
    "print(f\"Precision@{k} for Metadata Slice: {precision_k_5:.4f}\")\n",
    "print(f\"Precision@{k} for Report + Metadata Slice: {precision_k_6:.4f}\")\n",
    "print(f\"Precision@{k} for Image + Metadata Slice: {precision_k_7:.4f}\")\n",
    "\n",
    "\n",
    "tokens_slice_1 = analyze_error_slice_tokens(slice_1, test_results, k, max_features)\n",
    "tokens_slice_2 = analyze_error_slice_tokens(slice_2, test_results, k, max_features)\n",
    "tokens_slice_3 = analyze_error_slice_tokens(slice_3, test_results, k, max_features)\n",
    "tokens_slice_4 = analyze_error_slice_tokens(slice_4, test_results, k, max_features)\n",
    "tokens_slice_5 = analyze_error_slice_tokens(slice_5, test_results, k, max_features)\n",
    "tokens_slice_6 = analyze_error_slice_tokens(slice_6, test_results, k, max_features)\n",
    "tokens_slice_7 = analyze_error_slice_tokens(slice_7, test_results, k, max_features)"
   ]
  },
  {
   "cell_type": "code",
   "execution_count": 276,
   "id": "434ae5fc",
   "metadata": {},
   "outputs": [
    {
     "name": "stdout",
     "output_type": "stream",
     "text": [
      "Precision@10 for Image Only Slice with Rare Attribute: 0.0000\n"
     ]
    },
    {
     "data": {
      "text/html": [
       "<div>\n",
       "<style scoped>\n",
       "    .dataframe tbody tr th:only-of-type {\n",
       "        vertical-align: middle;\n",
       "    }\n",
       "\n",
       "    .dataframe tbody tr th {\n",
       "        vertical-align: top;\n",
       "    }\n",
       "\n",
       "    .dataframe thead th {\n",
       "        text-align: right;\n",
       "    }\n",
       "</style>\n",
       "<table border=\"1\" class=\"dataframe\">\n",
       "  <thead>\n",
       "    <tr style=\"text-align: right;\">\n",
       "      <th></th>\n",
       "      <th>true</th>\n",
       "      <th>predicted</th>\n",
       "      <th>report_text</th>\n",
       "      <th>metadata_description</th>\n",
       "      <th>Position</th>\n",
       "      <th>slice_score</th>\n",
       "    </tr>\n",
       "  </thead>\n",
       "  <tbody>\n",
       "    <tr>\n",
       "      <th>262</th>\n",
       "      <td>1</td>\n",
       "      <td>0</td>\n",
       "      <td>FINAL REPORT\\n PA AND LATERAL CHEST, ___.\\n \\n...</td>\n",
       "      <td>Patient underwent chest radiography in January...</td>\n",
       "      <td>1</td>\n",
       "      <td>1.0</td>\n",
       "    </tr>\n",
       "    <tr>\n",
       "      <th>151</th>\n",
       "      <td>1</td>\n",
       "      <td>0</td>\n",
       "      <td>FINAL REPORT\\n EXAMINATION:  CHEST (PORTABLE A...</td>\n",
       "      <td>Patient underwent bedside portable chest radio...</td>\n",
       "      <td>1</td>\n",
       "      <td>1.0</td>\n",
       "    </tr>\n",
       "    <tr>\n",
       "      <th>142</th>\n",
       "      <td>1</td>\n",
       "      <td>0</td>\n",
       "      <td>FINAL REPORT\\n STUDY:  AP chest, ___.\\n \\n CLI...</td>\n",
       "      <td>Patient underwent bedside portable chest radio...</td>\n",
       "      <td>1</td>\n",
       "      <td>1.0</td>\n",
       "    </tr>\n",
       "    <tr>\n",
       "      <th>71</th>\n",
       "      <td>1</td>\n",
       "      <td>0</td>\n",
       "      <td>FINAL REPORT\\n EXAMINATION:  CHEST (PORTABLE A...</td>\n",
       "      <td>Patient underwent bedside portable chest radio...</td>\n",
       "      <td>1</td>\n",
       "      <td>1.0</td>\n",
       "    </tr>\n",
       "    <tr>\n",
       "      <th>256</th>\n",
       "      <td>1</td>\n",
       "      <td>0</td>\n",
       "      <td>FINAL REPORT\\n EXAMINATION:  CHEST (PORTABLE A...</td>\n",
       "      <td>Patient underwent bedside portable chest radio...</td>\n",
       "      <td>1</td>\n",
       "      <td>1.0</td>\n",
       "    </tr>\n",
       "    <tr>\n",
       "      <th>296</th>\n",
       "      <td>1</td>\n",
       "      <td>0</td>\n",
       "      <td>WET READ: ___ ___ 10:24 PM\\n  Right chest tube...</td>\n",
       "      <td>Patient underwent bedside portable chest radio...</td>\n",
       "      <td>1</td>\n",
       "      <td>1.0</td>\n",
       "    </tr>\n",
       "    <tr>\n",
       "      <th>1</th>\n",
       "      <td>0</td>\n",
       "      <td>0</td>\n",
       "      <td>FINAL REPORT\\n INDICATION:  Edema.\\n \\n COMPAR...</td>\n",
       "      <td>Patient underwent bedside portable chest radio...</td>\n",
       "      <td>1</td>\n",
       "      <td>1.0</td>\n",
       "    </tr>\n",
       "    <tr>\n",
       "      <th>219</th>\n",
       "      <td>1</td>\n",
       "      <td>0</td>\n",
       "      <td>WET READ: ___ ___ ___ 2:38 PM\\n  \\n  Endotrach...</td>\n",
       "      <td>Patient underwent bedside portable chest radio...</td>\n",
       "      <td>1</td>\n",
       "      <td>1.0</td>\n",
       "    </tr>\n",
       "    <tr>\n",
       "      <th>189</th>\n",
       "      <td>1</td>\n",
       "      <td>0</td>\n",
       "      <td>FINAL REPORT\\n HISTORY:  Shortness of breath.\\...</td>\n",
       "      <td>Patient underwent bedside portable chest radio...</td>\n",
       "      <td>1</td>\n",
       "      <td>1.0</td>\n",
       "    </tr>\n",
       "    <tr>\n",
       "      <th>165</th>\n",
       "      <td>1</td>\n",
       "      <td>0</td>\n",
       "      <td>FINAL REPORT\\n AP CHEST, 8:08 A.M., ___\\n \\n H...</td>\n",
       "      <td>Patient underwent bedside portable chest radio...</td>\n",
       "      <td>1</td>\n",
       "      <td>1.0</td>\n",
       "    </tr>\n",
       "  </tbody>\n",
       "</table>\n",
       "</div>"
      ],
      "text/plain": [
       "     true  predicted                                        report_text  \\\n",
       "262     1          0  FINAL REPORT\\n PA AND LATERAL CHEST, ___.\\n \\n...   \n",
       "151     1          0  FINAL REPORT\\n EXAMINATION:  CHEST (PORTABLE A...   \n",
       "142     1          0  FINAL REPORT\\n STUDY:  AP chest, ___.\\n \\n CLI...   \n",
       "71      1          0  FINAL REPORT\\n EXAMINATION:  CHEST (PORTABLE A...   \n",
       "256     1          0  FINAL REPORT\\n EXAMINATION:  CHEST (PORTABLE A...   \n",
       "296     1          0  WET READ: ___ ___ 10:24 PM\\n  Right chest tube...   \n",
       "1       0          0  FINAL REPORT\\n INDICATION:  Edema.\\n \\n COMPAR...   \n",
       "219     1          0  WET READ: ___ ___ ___ 2:38 PM\\n  \\n  Endotrach...   \n",
       "189     1          0  FINAL REPORT\\n HISTORY:  Shortness of breath.\\...   \n",
       "165     1          0  FINAL REPORT\\n AP CHEST, 8:08 A.M., ___\\n \\n H...   \n",
       "\n",
       "                                  metadata_description  Position  slice_score  \n",
       "262  Patient underwent chest radiography in January...         1          1.0  \n",
       "151  Patient underwent bedside portable chest radio...         1          1.0  \n",
       "142  Patient underwent bedside portable chest radio...         1          1.0  \n",
       "71   Patient underwent bedside portable chest radio...         1          1.0  \n",
       "256  Patient underwent bedside portable chest radio...         1          1.0  \n",
       "296  Patient underwent bedside portable chest radio...         1          1.0  \n",
       "1    Patient underwent bedside portable chest radio...         1          1.0  \n",
       "219  Patient underwent bedside portable chest radio...         1          1.0  \n",
       "189  Patient underwent bedside portable chest radio...         1          1.0  \n",
       "165  Patient underwent bedside portable chest radio...         1          1.0  "
      ]
     },
     "execution_count": 276,
     "metadata": {},
     "output_type": "execute_result"
    }
   ],
   "source": [
    "slice_1 = error_slice_producer(4, 'slice_image_only', mk_df, label_2)\n",
    "slice_1.head(10)\n",
    "precision_k_1 = compute_precision_k(slice_1, label_2, k, attribute)\n",
    "print(f\"Precision@{k} for Image Only Slice with Rare Attribute: {precision_k_1:.4f}\")\n",
    "slice_1.head(10)"
   ]
  },
  {
   "cell_type": "code",
   "execution_count": 277,
   "id": "5365a1fe",
   "metadata": {},
   "outputs": [
    {
     "name": "stdout",
     "output_type": "stream",
     "text": [
      "Precision@10 for Image + Text Slice with Rare Attribute: 0.0000\n"
     ]
    },
    {
     "data": {
      "text/html": [
       "<div>\n",
       "<style scoped>\n",
       "    .dataframe tbody tr th:only-of-type {\n",
       "        vertical-align: middle;\n",
       "    }\n",
       "\n",
       "    .dataframe tbody tr th {\n",
       "        vertical-align: top;\n",
       "    }\n",
       "\n",
       "    .dataframe thead th {\n",
       "        text-align: right;\n",
       "    }\n",
       "</style>\n",
       "<table border=\"1\" class=\"dataframe\">\n",
       "  <thead>\n",
       "    <tr style=\"text-align: right;\">\n",
       "      <th></th>\n",
       "      <th>true</th>\n",
       "      <th>predicted</th>\n",
       "      <th>report_text</th>\n",
       "      <th>metadata_description</th>\n",
       "      <th>Position</th>\n",
       "      <th>slice_score</th>\n",
       "    </tr>\n",
       "  </thead>\n",
       "  <tbody>\n",
       "    <tr>\n",
       "      <th>4</th>\n",
       "      <td>1</td>\n",
       "      <td>0</td>\n",
       "      <td>FINAL REPORT\\n INDICATION:  ___-year-old femal...</td>\n",
       "      <td>Patient underwent chest radiography in October...</td>\n",
       "      <td>1</td>\n",
       "      <td>1.0</td>\n",
       "    </tr>\n",
       "    <tr>\n",
       "      <th>8</th>\n",
       "      <td>1</td>\n",
       "      <td>0</td>\n",
       "      <td>FINAL REPORT\\n EXAMINATION:  CHEST (PORTABLE A...</td>\n",
       "      <td>Patient underwent bedside portable chest radio...</td>\n",
       "      <td>1</td>\n",
       "      <td>1.0</td>\n",
       "    </tr>\n",
       "    <tr>\n",
       "      <th>26</th>\n",
       "      <td>1</td>\n",
       "      <td>0</td>\n",
       "      <td>FINAL REPORT\\n AP CHEST, 3:57 A.M., ___\\n \\n H...</td>\n",
       "      <td>Patient underwent bedside portable chest radio...</td>\n",
       "      <td>1</td>\n",
       "      <td>1.0</td>\n",
       "    </tr>\n",
       "    <tr>\n",
       "      <th>49</th>\n",
       "      <td>1</td>\n",
       "      <td>0</td>\n",
       "      <td>FINAL REPORT\\n EXAMINATION:  CHEST (PORTABLE A...</td>\n",
       "      <td>Patient underwent bedside portable chest radio...</td>\n",
       "      <td>1</td>\n",
       "      <td>1.0</td>\n",
       "    </tr>\n",
       "    <tr>\n",
       "      <th>50</th>\n",
       "      <td>1</td>\n",
       "      <td>0</td>\n",
       "      <td>FINAL REPORT\\n AP CHEST, 5:43 A.M., ON ___\\n \\...</td>\n",
       "      <td>Patient underwent bedside portable chest radio...</td>\n",
       "      <td>1</td>\n",
       "      <td>1.0</td>\n",
       "    </tr>\n",
       "    <tr>\n",
       "      <th>71</th>\n",
       "      <td>1</td>\n",
       "      <td>0</td>\n",
       "      <td>FINAL REPORT\\n EXAMINATION:  CHEST (PORTABLE A...</td>\n",
       "      <td>Patient underwent bedside portable chest radio...</td>\n",
       "      <td>1</td>\n",
       "      <td>1.0</td>\n",
       "    </tr>\n",
       "    <tr>\n",
       "      <th>141</th>\n",
       "      <td>1</td>\n",
       "      <td>0</td>\n",
       "      <td>FINAL REPORT\\n CHEST RADIOGRAPH\\n \\n INDICATIO...</td>\n",
       "      <td>Patient underwent bedside portable chest radio...</td>\n",
       "      <td>1</td>\n",
       "      <td>1.0</td>\n",
       "    </tr>\n",
       "    <tr>\n",
       "      <th>142</th>\n",
       "      <td>1</td>\n",
       "      <td>0</td>\n",
       "      <td>FINAL REPORT\\n STUDY:  AP chest, ___.\\n \\n CLI...</td>\n",
       "      <td>Patient underwent bedside portable chest radio...</td>\n",
       "      <td>1</td>\n",
       "      <td>1.0</td>\n",
       "    </tr>\n",
       "    <tr>\n",
       "      <th>152</th>\n",
       "      <td>1</td>\n",
       "      <td>0</td>\n",
       "      <td>FINAL REPORT\\n CHEST RADIOGRAPH\\n \\n INDICATIO...</td>\n",
       "      <td>Patient underwent bedside portable chest radio...</td>\n",
       "      <td>1</td>\n",
       "      <td>1.0</td>\n",
       "    </tr>\n",
       "    <tr>\n",
       "      <th>232</th>\n",
       "      <td>1</td>\n",
       "      <td>0</td>\n",
       "      <td>FINAL REPORT\\n PORTABLE CHEST, ___\\n \\n COMPAR...</td>\n",
       "      <td>Patient underwent bedside portable chest radio...</td>\n",
       "      <td>1</td>\n",
       "      <td>1.0</td>\n",
       "    </tr>\n",
       "  </tbody>\n",
       "</table>\n",
       "</div>"
      ],
      "text/plain": [
       "     true  predicted                                        report_text  \\\n",
       "4       1          0  FINAL REPORT\\n INDICATION:  ___-year-old femal...   \n",
       "8       1          0  FINAL REPORT\\n EXAMINATION:  CHEST (PORTABLE A...   \n",
       "26      1          0  FINAL REPORT\\n AP CHEST, 3:57 A.M., ___\\n \\n H...   \n",
       "49      1          0  FINAL REPORT\\n EXAMINATION:  CHEST (PORTABLE A...   \n",
       "50      1          0  FINAL REPORT\\n AP CHEST, 5:43 A.M., ON ___\\n \\...   \n",
       "71      1          0  FINAL REPORT\\n EXAMINATION:  CHEST (PORTABLE A...   \n",
       "141     1          0  FINAL REPORT\\n CHEST RADIOGRAPH\\n \\n INDICATIO...   \n",
       "142     1          0  FINAL REPORT\\n STUDY:  AP chest, ___.\\n \\n CLI...   \n",
       "152     1          0  FINAL REPORT\\n CHEST RADIOGRAPH\\n \\n INDICATIO...   \n",
       "232     1          0  FINAL REPORT\\n PORTABLE CHEST, ___\\n \\n COMPAR...   \n",
       "\n",
       "                                  metadata_description  Position  slice_score  \n",
       "4    Patient underwent chest radiography in October...         1          1.0  \n",
       "8    Patient underwent bedside portable chest radio...         1          1.0  \n",
       "26   Patient underwent bedside portable chest radio...         1          1.0  \n",
       "49   Patient underwent bedside portable chest radio...         1          1.0  \n",
       "50   Patient underwent bedside portable chest radio...         1          1.0  \n",
       "71   Patient underwent bedside portable chest radio...         1          1.0  \n",
       "141  Patient underwent bedside portable chest radio...         1          1.0  \n",
       "142  Patient underwent bedside portable chest radio...         1          1.0  \n",
       "152  Patient underwent bedside portable chest radio...         1          1.0  \n",
       "232  Patient underwent bedside portable chest radio...         1          1.0  "
      ]
     },
     "execution_count": 277,
     "metadata": {},
     "output_type": "execute_result"
    }
   ],
   "source": [
    "slice_2 = error_slice_producer(1, 'slice_image_text', mk_df, label_2)\n",
    "precision_k_2 = compute_precision_k(slice_2, label_2, k, attribute)\n",
    "print(f\"Precision@{k} for Image + Text Slice with Rare Attribute: {precision_k_2:.4f}\")\n",
    "slice_2.head(10)"
   ]
  },
  {
   "cell_type": "code",
   "execution_count": 278,
   "id": "989d4a86",
   "metadata": {},
   "outputs": [
    {
     "name": "stdout",
     "output_type": "stream",
     "text": [
      "Precision@10 for Metadata Slice with Rare Attribute: 0.0000\n"
     ]
    },
    {
     "data": {
      "text/html": [
       "<div>\n",
       "<style scoped>\n",
       "    .dataframe tbody tr th:only-of-type {\n",
       "        vertical-align: middle;\n",
       "    }\n",
       "\n",
       "    .dataframe tbody tr th {\n",
       "        vertical-align: top;\n",
       "    }\n",
       "\n",
       "    .dataframe thead th {\n",
       "        text-align: right;\n",
       "    }\n",
       "</style>\n",
       "<table border=\"1\" class=\"dataframe\">\n",
       "  <thead>\n",
       "    <tr style=\"text-align: right;\">\n",
       "      <th></th>\n",
       "      <th>true</th>\n",
       "      <th>predicted</th>\n",
       "      <th>report_text</th>\n",
       "      <th>metadata_description</th>\n",
       "      <th>Position</th>\n",
       "      <th>slice_score</th>\n",
       "    </tr>\n",
       "  </thead>\n",
       "  <tbody>\n",
       "    <tr>\n",
       "      <th>279</th>\n",
       "      <td>1</td>\n",
       "      <td>0</td>\n",
       "      <td>FINAL REPORT\\n SINGLE FRONTAL VIEW OF THE CHES...</td>\n",
       "      <td>Patient underwent bedside portable chest radio...</td>\n",
       "      <td>1</td>\n",
       "      <td>1.000000</td>\n",
       "    </tr>\n",
       "    <tr>\n",
       "      <th>232</th>\n",
       "      <td>1</td>\n",
       "      <td>0</td>\n",
       "      <td>FINAL REPORT\\n PORTABLE CHEST, ___\\n \\n COMPAR...</td>\n",
       "      <td>Patient underwent bedside portable chest radio...</td>\n",
       "      <td>1</td>\n",
       "      <td>1.000000</td>\n",
       "    </tr>\n",
       "    <tr>\n",
       "      <th>182</th>\n",
       "      <td>1</td>\n",
       "      <td>0</td>\n",
       "      <td>FINAL REPORT\\n INDICATION:  ___ year old man w...</td>\n",
       "      <td>Patient underwent bedside portable chest radio...</td>\n",
       "      <td>1</td>\n",
       "      <td>1.000000</td>\n",
       "    </tr>\n",
       "    <tr>\n",
       "      <th>141</th>\n",
       "      <td>1</td>\n",
       "      <td>0</td>\n",
       "      <td>FINAL REPORT\\n CHEST RADIOGRAPH\\n \\n INDICATIO...</td>\n",
       "      <td>Patient underwent bedside portable chest radio...</td>\n",
       "      <td>1</td>\n",
       "      <td>1.000000</td>\n",
       "    </tr>\n",
       "    <tr>\n",
       "      <th>50</th>\n",
       "      <td>1</td>\n",
       "      <td>0</td>\n",
       "      <td>FINAL REPORT\\n AP CHEST, 5:43 A.M., ON ___\\n \\...</td>\n",
       "      <td>Patient underwent bedside portable chest radio...</td>\n",
       "      <td>1</td>\n",
       "      <td>1.000000</td>\n",
       "    </tr>\n",
       "    <tr>\n",
       "      <th>256</th>\n",
       "      <td>1</td>\n",
       "      <td>0</td>\n",
       "      <td>FINAL REPORT\\n EXAMINATION:  CHEST (PORTABLE A...</td>\n",
       "      <td>Patient underwent bedside portable chest radio...</td>\n",
       "      <td>1</td>\n",
       "      <td>1.000000</td>\n",
       "    </tr>\n",
       "    <tr>\n",
       "      <th>71</th>\n",
       "      <td>1</td>\n",
       "      <td>0</td>\n",
       "      <td>FINAL REPORT\\n EXAMINATION:  CHEST (PORTABLE A...</td>\n",
       "      <td>Patient underwent bedside portable chest radio...</td>\n",
       "      <td>1</td>\n",
       "      <td>1.000000</td>\n",
       "    </tr>\n",
       "    <tr>\n",
       "      <th>1</th>\n",
       "      <td>0</td>\n",
       "      <td>0</td>\n",
       "      <td>FINAL REPORT\\n INDICATION:  Edema.\\n \\n COMPAR...</td>\n",
       "      <td>Patient underwent bedside portable chest radio...</td>\n",
       "      <td>1</td>\n",
       "      <td>1.000000</td>\n",
       "    </tr>\n",
       "    <tr>\n",
       "      <th>67</th>\n",
       "      <td>0</td>\n",
       "      <td>0</td>\n",
       "      <td>FINAL REPORT\\n AP CHEST, 9:00 A.M., ___\\n \\n H...</td>\n",
       "      <td>Patient underwent bedside portable chest radio...</td>\n",
       "      <td>1</td>\n",
       "      <td>0.999995</td>\n",
       "    </tr>\n",
       "    <tr>\n",
       "      <th>274</th>\n",
       "      <td>0</td>\n",
       "      <td>0</td>\n",
       "      <td>FINAL REPORT\\n SINGLE FRONTAL VIEW OF THE CHES...</td>\n",
       "      <td>Patient underwent bedside portable chest radio...</td>\n",
       "      <td>1</td>\n",
       "      <td>0.999994</td>\n",
       "    </tr>\n",
       "  </tbody>\n",
       "</table>\n",
       "</div>"
      ],
      "text/plain": [
       "     true  predicted                                        report_text  \\\n",
       "279     1          0  FINAL REPORT\\n SINGLE FRONTAL VIEW OF THE CHES...   \n",
       "232     1          0  FINAL REPORT\\n PORTABLE CHEST, ___\\n \\n COMPAR...   \n",
       "182     1          0  FINAL REPORT\\n INDICATION:  ___ year old man w...   \n",
       "141     1          0  FINAL REPORT\\n CHEST RADIOGRAPH\\n \\n INDICATIO...   \n",
       "50      1          0  FINAL REPORT\\n AP CHEST, 5:43 A.M., ON ___\\n \\...   \n",
       "256     1          0  FINAL REPORT\\n EXAMINATION:  CHEST (PORTABLE A...   \n",
       "71      1          0  FINAL REPORT\\n EXAMINATION:  CHEST (PORTABLE A...   \n",
       "1       0          0  FINAL REPORT\\n INDICATION:  Edema.\\n \\n COMPAR...   \n",
       "67      0          0  FINAL REPORT\\n AP CHEST, 9:00 A.M., ___\\n \\n H...   \n",
       "274     0          0  FINAL REPORT\\n SINGLE FRONTAL VIEW OF THE CHES...   \n",
       "\n",
       "                                  metadata_description  Position  slice_score  \n",
       "279  Patient underwent bedside portable chest radio...         1     1.000000  \n",
       "232  Patient underwent bedside portable chest radio...         1     1.000000  \n",
       "182  Patient underwent bedside portable chest radio...         1     1.000000  \n",
       "141  Patient underwent bedside portable chest radio...         1     1.000000  \n",
       "50   Patient underwent bedside portable chest radio...         1     1.000000  \n",
       "256  Patient underwent bedside portable chest radio...         1     1.000000  \n",
       "71   Patient underwent bedside portable chest radio...         1     1.000000  \n",
       "1    Patient underwent bedside portable chest radio...         1     1.000000  \n",
       "67   Patient underwent bedside portable chest radio...         1     0.999995  \n",
       "274  Patient underwent bedside portable chest radio...         1     0.999994  "
      ]
     },
     "execution_count": 278,
     "metadata": {},
     "output_type": "execute_result"
    }
   ],
   "source": [
    "slice_5 = error_slice_producer(3, 'slice_report_text', mk_df, label_2)\n",
    "precision_k_4 = compute_precision_k(slice_5, label_2, k, attribute)\n",
    "print(f\"Precision@{k} for Metadata Slice with Rare Attribute: {precision_k_5:.4f}\") \n",
    "slice_5.head(10)"
   ]
  },
  {
   "cell_type": "code",
   "execution_count": 279,
   "id": "668c9f08",
   "metadata": {},
   "outputs": [
    {
     "name": "stdout",
     "output_type": "stream",
     "text": [
      "Precision@10 for Report + Metadata Slice with Rare Attribute: 0.0000\n"
     ]
    },
    {
     "data": {
      "text/html": [
       "<div>\n",
       "<style scoped>\n",
       "    .dataframe tbody tr th:only-of-type {\n",
       "        vertical-align: middle;\n",
       "    }\n",
       "\n",
       "    .dataframe tbody tr th {\n",
       "        vertical-align: top;\n",
       "    }\n",
       "\n",
       "    .dataframe thead th {\n",
       "        text-align: right;\n",
       "    }\n",
       "</style>\n",
       "<table border=\"1\" class=\"dataframe\">\n",
       "  <thead>\n",
       "    <tr style=\"text-align: right;\">\n",
       "      <th></th>\n",
       "      <th>true</th>\n",
       "      <th>predicted</th>\n",
       "      <th>report_text</th>\n",
       "      <th>metadata_description</th>\n",
       "      <th>Position</th>\n",
       "      <th>slice_score</th>\n",
       "    </tr>\n",
       "  </thead>\n",
       "  <tbody>\n",
       "    <tr>\n",
       "      <th>8</th>\n",
       "      <td>1</td>\n",
       "      <td>0</td>\n",
       "      <td>FINAL REPORT\\n EXAMINATION:  CHEST (PORTABLE A...</td>\n",
       "      <td>Patient underwent bedside portable chest radio...</td>\n",
       "      <td>1</td>\n",
       "      <td>1.0</td>\n",
       "    </tr>\n",
       "    <tr>\n",
       "      <th>49</th>\n",
       "      <td>1</td>\n",
       "      <td>0</td>\n",
       "      <td>FINAL REPORT\\n EXAMINATION:  CHEST (PORTABLE A...</td>\n",
       "      <td>Patient underwent bedside portable chest radio...</td>\n",
       "      <td>1</td>\n",
       "      <td>1.0</td>\n",
       "    </tr>\n",
       "    <tr>\n",
       "      <th>165</th>\n",
       "      <td>1</td>\n",
       "      <td>0</td>\n",
       "      <td>FINAL REPORT\\n AP CHEST, 8:08 A.M., ___\\n \\n H...</td>\n",
       "      <td>Patient underwent bedside portable chest radio...</td>\n",
       "      <td>1</td>\n",
       "      <td>1.0</td>\n",
       "    </tr>\n",
       "    <tr>\n",
       "      <th>142</th>\n",
       "      <td>1</td>\n",
       "      <td>0</td>\n",
       "      <td>FINAL REPORT\\n STUDY:  AP chest, ___.\\n \\n CLI...</td>\n",
       "      <td>Patient underwent bedside portable chest radio...</td>\n",
       "      <td>1</td>\n",
       "      <td>1.0</td>\n",
       "    </tr>\n",
       "    <tr>\n",
       "      <th>250</th>\n",
       "      <td>1</td>\n",
       "      <td>0</td>\n",
       "      <td>FINAL REPORT\\n CHEST RADIOGRAPH\\n \\n INDICATIO...</td>\n",
       "      <td>Patient underwent bedside portable chest radio...</td>\n",
       "      <td>1</td>\n",
       "      <td>1.0</td>\n",
       "    </tr>\n",
       "    <tr>\n",
       "      <th>195</th>\n",
       "      <td>1</td>\n",
       "      <td>0</td>\n",
       "      <td>FINAL REPORT\\n PORTABLE AP CHEST FROM ___ AT 5...</td>\n",
       "      <td>Patient underwent bedside portable chest radio...</td>\n",
       "      <td>1</td>\n",
       "      <td>1.0</td>\n",
       "    </tr>\n",
       "    <tr>\n",
       "      <th>189</th>\n",
       "      <td>1</td>\n",
       "      <td>0</td>\n",
       "      <td>FINAL REPORT\\n HISTORY:  Shortness of breath.\\...</td>\n",
       "      <td>Patient underwent bedside portable chest radio...</td>\n",
       "      <td>1</td>\n",
       "      <td>1.0</td>\n",
       "    </tr>\n",
       "    <tr>\n",
       "      <th>151</th>\n",
       "      <td>1</td>\n",
       "      <td>0</td>\n",
       "      <td>FINAL REPORT\\n EXAMINATION:  CHEST (PORTABLE A...</td>\n",
       "      <td>Patient underwent bedside portable chest radio...</td>\n",
       "      <td>1</td>\n",
       "      <td>1.0</td>\n",
       "    </tr>\n",
       "    <tr>\n",
       "      <th>234</th>\n",
       "      <td>1</td>\n",
       "      <td>0</td>\n",
       "      <td>FINAL REPORT\\n EXAMINATION:  CHEST (PORTABLE A...</td>\n",
       "      <td>Patient underwent bedside portable chest radio...</td>\n",
       "      <td>1</td>\n",
       "      <td>1.0</td>\n",
       "    </tr>\n",
       "    <tr>\n",
       "      <th>212</th>\n",
       "      <td>1</td>\n",
       "      <td>0</td>\n",
       "      <td>FINAL REPORT\\n AP CHEST, 4:20 A.M.\\n \\n HISTOR...</td>\n",
       "      <td>Patient underwent bedside portable chest radio...</td>\n",
       "      <td>1</td>\n",
       "      <td>1.0</td>\n",
       "    </tr>\n",
       "  </tbody>\n",
       "</table>\n",
       "</div>"
      ],
      "text/plain": [
       "     true  predicted                                        report_text  \\\n",
       "8       1          0  FINAL REPORT\\n EXAMINATION:  CHEST (PORTABLE A...   \n",
       "49      1          0  FINAL REPORT\\n EXAMINATION:  CHEST (PORTABLE A...   \n",
       "165     1          0  FINAL REPORT\\n AP CHEST, 8:08 A.M., ___\\n \\n H...   \n",
       "142     1          0  FINAL REPORT\\n STUDY:  AP chest, ___.\\n \\n CLI...   \n",
       "250     1          0  FINAL REPORT\\n CHEST RADIOGRAPH\\n \\n INDICATIO...   \n",
       "195     1          0  FINAL REPORT\\n PORTABLE AP CHEST FROM ___ AT 5...   \n",
       "189     1          0  FINAL REPORT\\n HISTORY:  Shortness of breath.\\...   \n",
       "151     1          0  FINAL REPORT\\n EXAMINATION:  CHEST (PORTABLE A...   \n",
       "234     1          0  FINAL REPORT\\n EXAMINATION:  CHEST (PORTABLE A...   \n",
       "212     1          0  FINAL REPORT\\n AP CHEST, 4:20 A.M.\\n \\n HISTOR...   \n",
       "\n",
       "                                  metadata_description  Position  slice_score  \n",
       "8    Patient underwent bedside portable chest radio...         1          1.0  \n",
       "49   Patient underwent bedside portable chest radio...         1          1.0  \n",
       "165  Patient underwent bedside portable chest radio...         1          1.0  \n",
       "142  Patient underwent bedside portable chest radio...         1          1.0  \n",
       "250  Patient underwent bedside portable chest radio...         1          1.0  \n",
       "195  Patient underwent bedside portable chest radio...         1          1.0  \n",
       "189  Patient underwent bedside portable chest radio...         1          1.0  \n",
       "151  Patient underwent bedside portable chest radio...         1          1.0  \n",
       "234  Patient underwent bedside portable chest radio...         1          1.0  \n",
       "212  Patient underwent bedside portable chest radio...         1          1.0  "
      ]
     },
     "execution_count": 279,
     "metadata": {},
     "output_type": "execute_result"
    }
   ],
   "source": [
    "slice_6 = error_slice_producer(3, 'slice_report_metadata', mk_df, label_2)\n",
    "precision_k_6 = compute_precision_k(slice_6, label_2, k, attribute)\n",
    "print(f\"Precision@{k} for Report + Metadata Slice with Rare Attribute: {precision_k_6:.4f}\")\n",
    "slice_6.head(10)"
   ]
  },
  {
   "cell_type": "code",
   "execution_count": 280,
   "id": "a3a932cc",
   "metadata": {},
   "outputs": [
    {
     "name": "stdout",
     "output_type": "stream",
     "text": [
      "Precision@10 for Image + Metadata Slice with Rare Attribute: 0.0000\n"
     ]
    },
    {
     "data": {
      "text/html": [
       "<div>\n",
       "<style scoped>\n",
       "    .dataframe tbody tr th:only-of-type {\n",
       "        vertical-align: middle;\n",
       "    }\n",
       "\n",
       "    .dataframe tbody tr th {\n",
       "        vertical-align: top;\n",
       "    }\n",
       "\n",
       "    .dataframe thead th {\n",
       "        text-align: right;\n",
       "    }\n",
       "</style>\n",
       "<table border=\"1\" class=\"dataframe\">\n",
       "  <thead>\n",
       "    <tr style=\"text-align: right;\">\n",
       "      <th></th>\n",
       "      <th>true</th>\n",
       "      <th>predicted</th>\n",
       "      <th>report_text</th>\n",
       "      <th>metadata_description</th>\n",
       "      <th>Position</th>\n",
       "      <th>slice_score</th>\n",
       "    </tr>\n",
       "  </thead>\n",
       "  <tbody>\n",
       "    <tr>\n",
       "      <th>24</th>\n",
       "      <td>0</td>\n",
       "      <td>1</td>\n",
       "      <td>FINAL REPORT\\n EXAMINATION:  Chest radiograph....</td>\n",
       "      <td>Patient underwent bedside portable chest radio...</td>\n",
       "      <td>1</td>\n",
       "      <td>1.0</td>\n",
       "    </tr>\n",
       "    <tr>\n",
       "      <th>29</th>\n",
       "      <td>0</td>\n",
       "      <td>1</td>\n",
       "      <td>FINAL REPORT\\n INDICATION:  ___F with L IJ pla...</td>\n",
       "      <td>Patient underwent bedside portable chest radio...</td>\n",
       "      <td>1</td>\n",
       "      <td>1.0</td>\n",
       "    </tr>\n",
       "    <tr>\n",
       "      <th>56</th>\n",
       "      <td>0</td>\n",
       "      <td>1</td>\n",
       "      <td>FINAL REPORT\\n INDICATION:  Status post left i...</td>\n",
       "      <td>Patient underwent bedside portable chest radio...</td>\n",
       "      <td>1</td>\n",
       "      <td>1.0</td>\n",
       "    </tr>\n",
       "    <tr>\n",
       "      <th>58</th>\n",
       "      <td>0</td>\n",
       "      <td>1</td>\n",
       "      <td>FINAL REPORT\\n EXAMINATION:  CHEST (PORTABLE A...</td>\n",
       "      <td>Patient underwent bedside portable chest radio...</td>\n",
       "      <td>1</td>\n",
       "      <td>1.0</td>\n",
       "    </tr>\n",
       "    <tr>\n",
       "      <th>72</th>\n",
       "      <td>0</td>\n",
       "      <td>1</td>\n",
       "      <td>FINAL REPORT\\n INDICATION:  ___ year old man w...</td>\n",
       "      <td>Patient underwent bedside portable chest radio...</td>\n",
       "      <td>1</td>\n",
       "      <td>1.0</td>\n",
       "    </tr>\n",
       "    <tr>\n",
       "      <th>91</th>\n",
       "      <td>0</td>\n",
       "      <td>1</td>\n",
       "      <td>FINAL REPORT\\n TYPE OF EXAMINATION:  Chest AP ...</td>\n",
       "      <td>Patient underwent bedside portable chest radio...</td>\n",
       "      <td>1</td>\n",
       "      <td>1.0</td>\n",
       "    </tr>\n",
       "    <tr>\n",
       "      <th>73</th>\n",
       "      <td>0</td>\n",
       "      <td>1</td>\n",
       "      <td>WET READ: ___ ___ ___ 8:37 AM\\n  \\n  \\n  Compa...</td>\n",
       "      <td>Patient underwent bedside portable chest radio...</td>\n",
       "      <td>1</td>\n",
       "      <td>1.0</td>\n",
       "    </tr>\n",
       "    <tr>\n",
       "      <th>257</th>\n",
       "      <td>0</td>\n",
       "      <td>1</td>\n",
       "      <td>FINAL REPORT\\n EXAMINATION:  CHEST (PORTABLE A...</td>\n",
       "      <td>Patient underwent bedside portable chest radio...</td>\n",
       "      <td>1</td>\n",
       "      <td>1.0</td>\n",
       "    </tr>\n",
       "    <tr>\n",
       "      <th>163</th>\n",
       "      <td>0</td>\n",
       "      <td>1</td>\n",
       "      <td>WET READ: ___ ___ 1:55 PM\\n  \\n  \\n  \\n  Left-...</td>\n",
       "      <td>Patient underwent bedside portable chest radio...</td>\n",
       "      <td>1</td>\n",
       "      <td>1.0</td>\n",
       "    </tr>\n",
       "    <tr>\n",
       "      <th>96</th>\n",
       "      <td>0</td>\n",
       "      <td>1</td>\n",
       "      <td>FINAL REPORT\\n EXAMINATION:  CHEST (PORTABLE A...</td>\n",
       "      <td>Patient underwent bedside portable chest radio...</td>\n",
       "      <td>1</td>\n",
       "      <td>1.0</td>\n",
       "    </tr>\n",
       "  </tbody>\n",
       "</table>\n",
       "</div>"
      ],
      "text/plain": [
       "     true  predicted                                        report_text  \\\n",
       "24      0          1  FINAL REPORT\\n EXAMINATION:  Chest radiograph....   \n",
       "29      0          1  FINAL REPORT\\n INDICATION:  ___F with L IJ pla...   \n",
       "56      0          1  FINAL REPORT\\n INDICATION:  Status post left i...   \n",
       "58      0          1  FINAL REPORT\\n EXAMINATION:  CHEST (PORTABLE A...   \n",
       "72      0          1  FINAL REPORT\\n INDICATION:  ___ year old man w...   \n",
       "91      0          1  FINAL REPORT\\n TYPE OF EXAMINATION:  Chest AP ...   \n",
       "73      0          1  WET READ: ___ ___ ___ 8:37 AM\\n  \\n  \\n  Compa...   \n",
       "257     0          1  FINAL REPORT\\n EXAMINATION:  CHEST (PORTABLE A...   \n",
       "163     0          1  WET READ: ___ ___ 1:55 PM\\n  \\n  \\n  \\n  Left-...   \n",
       "96      0          1  FINAL REPORT\\n EXAMINATION:  CHEST (PORTABLE A...   \n",
       "\n",
       "                                  metadata_description  Position  slice_score  \n",
       "24   Patient underwent bedside portable chest radio...         1          1.0  \n",
       "29   Patient underwent bedside portable chest radio...         1          1.0  \n",
       "56   Patient underwent bedside portable chest radio...         1          1.0  \n",
       "58   Patient underwent bedside portable chest radio...         1          1.0  \n",
       "72   Patient underwent bedside portable chest radio...         1          1.0  \n",
       "91   Patient underwent bedside portable chest radio...         1          1.0  \n",
       "73   Patient underwent bedside portable chest radio...         1          1.0  \n",
       "257  Patient underwent bedside portable chest radio...         1          1.0  \n",
       "163  Patient underwent bedside portable chest radio...         1          1.0  \n",
       "96   Patient underwent bedside portable chest radio...         1          1.0  "
      ]
     },
     "execution_count": 280,
     "metadata": {},
     "output_type": "execute_result"
    }
   ],
   "source": [
    "slice_7 = error_slice_producer(0, 'slice_image_metadata', mk_df, label_2)\n",
    "precision_k_7 = compute_precision_k(slice_7, label_2, k, attribute)\n",
    "print(f\"Precision@{k} for Image + Metadata Slice with Rare Attribute: {precision_k_7:.4f}\")\n",
    "slice_7.head(10)"
   ]
  },
  {
   "cell_type": "code",
   "execution_count": 281,
   "id": "74655091",
   "metadata": {},
   "outputs": [
    {
     "name": "stdout",
     "output_type": "stream",
     "text": [
      "Support Devices Proportion in Incorrect Predictions: 0.1151\n"
     ]
    }
   ],
   "source": [
    "# the samples with wrong predictions\n",
    "test_results_incorrect = test_results_3[test_results_3['true'] != test_results_3['predicted']].copy()\n",
    "# calculate the suppoting devices proportion\n",
    "test_results_incorrect['Position'] = test_results_incorrect['Position'].fillna(0)\n",
    "support_devices_count = test_results_incorrect['Position'].sum()\n",
    "total_count = len(test_results_incorrect)\n",
    "support_devices_proportion = 1- (support_devices_count / total_count if total_count > 0 else 0)\n",
    "print(f\"Support Devices Proportion in Incorrect Predictions: {support_devices_proportion:.4f}\")"
   ]
  },
  {
   "cell_type": "code",
   "execution_count": 288,
   "id": "11f93a2a",
   "metadata": {},
   "outputs": [],
   "source": [
    "tokens_slice_1 = analyze_error_slice_tokens(slice_1, test_results, k, max_features)\n",
    "tokens_slice_2 = analyze_error_slice_tokens(slice_2, test_results, k, max_features)\n",
    "tokens_slice_3 = analyze_error_slice_tokens(slice_3, test_results, k, max_features)\n",
    "tokens_slice_4 = analyze_error_slice_tokens(slice_4, test_results, k, max_features)\n",
    "tokens_slice_5 = analyze_error_slice_tokens(slice_5, test_results, k, max_features)\n",
    "tokens_slice_6 = analyze_error_slice_tokens(slice_6, test_results, k, max_features)\n",
    "tokens_slice_7 = analyze_error_slice_tokens(slice_7, test_results, k, max_features)"
   ]
  },
  {
   "cell_type": "code",
   "execution_count": 290,
   "id": "94f0ed38",
   "metadata": {},
   "outputs": [
    {
     "data": {
      "text/html": [
       "<div>\n",
       "<style scoped>\n",
       "    .dataframe tbody tr th:only-of-type {\n",
       "        vertical-align: middle;\n",
       "    }\n",
       "\n",
       "    .dataframe tbody tr th {\n",
       "        vertical-align: top;\n",
       "    }\n",
       "\n",
       "    .dataframe thead th {\n",
       "        text-align: right;\n",
       "    }\n",
       "</style>\n",
       "<table border=\"1\" class=\"dataframe\">\n",
       "  <thead>\n",
       "    <tr style=\"text-align: right;\">\n",
       "      <th></th>\n",
       "      <th>token</th>\n",
       "      <th>diff_score</th>\n",
       "      <th>error_count</th>\n",
       "      <th>normal_count</th>\n",
       "    </tr>\n",
       "  </thead>\n",
       "  <tbody>\n",
       "    <tr>\n",
       "      <th>351</th>\n",
       "      <td>heart size normal</td>\n",
       "      <td>0.028613</td>\n",
       "      <td>9</td>\n",
       "      <td>0</td>\n",
       "    </tr>\n",
       "    <tr>\n",
       "      <th>862</th>\n",
       "      <td>size normal</td>\n",
       "      <td>0.028447</td>\n",
       "      <td>10</td>\n",
       "      <td>1</td>\n",
       "    </tr>\n",
       "    <tr>\n",
       "      <th>535</th>\n",
       "      <td>normal</td>\n",
       "      <td>0.028027</td>\n",
       "      <td>17</td>\n",
       "      <td>10</td>\n",
       "    </tr>\n",
       "    <tr>\n",
       "      <th>159</th>\n",
       "      <td>clear</td>\n",
       "      <td>0.027536</td>\n",
       "      <td>12</td>\n",
       "      <td>4</td>\n",
       "    </tr>\n",
       "    <tr>\n",
       "      <th>653</th>\n",
       "      <td>portable</td>\n",
       "      <td>0.025640</td>\n",
       "      <td>59</td>\n",
       "      <td>95</td>\n",
       "    </tr>\n",
       "  </tbody>\n",
       "</table>\n",
       "</div>"
      ],
      "text/plain": [
       "                 token  diff_score  error_count  normal_count\n",
       "351  heart size normal    0.028613            9             0\n",
       "862        size normal    0.028447           10             1\n",
       "535             normal    0.028027           17            10\n",
       "159              clear    0.027536           12             4\n",
       "653           portable    0.025640           59            95"
      ]
     },
     "execution_count": 290,
     "metadata": {},
     "output_type": "execute_result"
    }
   ],
   "source": [
    "tokens_slice_1.head()"
   ]
  },
  {
   "cell_type": "code",
   "execution_count": 291,
   "id": "67f991b6",
   "metadata": {},
   "outputs": [
    {
     "data": {
      "text/html": [
       "<div>\n",
       "<style scoped>\n",
       "    .dataframe tbody tr th:only-of-type {\n",
       "        vertical-align: middle;\n",
       "    }\n",
       "\n",
       "    .dataframe tbody tr th {\n",
       "        vertical-align: top;\n",
       "    }\n",
       "\n",
       "    .dataframe thead th {\n",
       "        text-align: right;\n",
       "    }\n",
       "</style>\n",
       "<table border=\"1\" class=\"dataframe\">\n",
       "  <thead>\n",
       "    <tr style=\"text-align: right;\">\n",
       "      <th></th>\n",
       "      <th>token</th>\n",
       "      <th>diff_score</th>\n",
       "      <th>error_count</th>\n",
       "      <th>normal_count</th>\n",
       "    </tr>\n",
       "  </thead>\n",
       "  <tbody>\n",
       "    <tr>\n",
       "      <th>351</th>\n",
       "      <td>heart size normal</td>\n",
       "      <td>0.028613</td>\n",
       "      <td>9</td>\n",
       "      <td>0</td>\n",
       "    </tr>\n",
       "    <tr>\n",
       "      <th>862</th>\n",
       "      <td>size normal</td>\n",
       "      <td>0.028447</td>\n",
       "      <td>10</td>\n",
       "      <td>1</td>\n",
       "    </tr>\n",
       "    <tr>\n",
       "      <th>535</th>\n",
       "      <td>normal</td>\n",
       "      <td>0.028027</td>\n",
       "      <td>17</td>\n",
       "      <td>10</td>\n",
       "    </tr>\n",
       "    <tr>\n",
       "      <th>159</th>\n",
       "      <td>clear</td>\n",
       "      <td>0.027536</td>\n",
       "      <td>12</td>\n",
       "      <td>4</td>\n",
       "    </tr>\n",
       "    <tr>\n",
       "      <th>653</th>\n",
       "      <td>portable</td>\n",
       "      <td>0.025640</td>\n",
       "      <td>59</td>\n",
       "      <td>95</td>\n",
       "    </tr>\n",
       "  </tbody>\n",
       "</table>\n",
       "</div>"
      ],
      "text/plain": [
       "                 token  diff_score  error_count  normal_count\n",
       "351  heart size normal    0.028613            9             0\n",
       "862        size normal    0.028447           10             1\n",
       "535             normal    0.028027           17            10\n",
       "159              clear    0.027536           12             4\n",
       "653           portable    0.025640           59            95"
      ]
     },
     "execution_count": 291,
     "metadata": {},
     "output_type": "execute_result"
    }
   ],
   "source": [
    "tokens_slice_1.head()"
   ]
  },
  {
   "cell_type": "code",
   "execution_count": null,
   "id": "a755a87b",
   "metadata": {},
   "outputs": [
    {
     "data": {
      "image/png": "[encoded data removed]",
      "text/plain": [
       "<Figure size 600x600 with 1 Axes>"
      ]
     },
     "metadata": {},
     "output_type": "display_data"
    }
   ],
   "source": [
    "k = 10\n",
    "precision_values = [\n",
    "    precision_k_1,\n",
    "    precision_k_2,\n",
    "    precision_k_3,\n",
    "    precision_k_4,\n",
    "    precision_k_5,\n",
    "    precision_k_6,\n",
    "    precision_k_7,\n",
    "    support_devices_proportion\n",
    "]\n",
    "\n",
    "embedding_types = [\n",
    "    \"Image Only\",\n",
    "    \"Image + Text\",\n",
    "    \"Image + Text + Metadata\",\n",
    "    \"Report Text\",\n",
    "    \"Metadata\",\n",
    "    \"Report + Metadata\",\n",
    "    \"Image + Metadata\",\n",
    "    \"Baseline\"\n",
    "    \n",
    "]\n",
    "\n",
    "plt.figure(figsize=(6, 6))\n",
    "bars = plt.bar(embedding_types, precision_values, color=\"lightseagreen\",width=0.4)\n",
    "\n",
    "# for bar, value in zip(bars, precision_values):\n",
    "#     plt.text(bar.get_x() + bar.get_width()/2, bar.get_height(),\n",
    "#              f\"{value:.4f}\", ha='center', va='bottom', fontsize=12)\n",
    "\n",
    "plt.title(\n",
    "    f\"Precision@{k} on Error Slice (5% of Test Set)\\n\",\n",
    "    fontsize=14\n",
    ")\n",
    "plt.ylabel(f\"Precision@{k}\", fontsize=12)\n",
    "plt.xticks(rotation=45, ha='right', fontsize=12)\n",
    "plt.ylim(0, 1)  \n",
    "plt.tight_layout()\n",
    "plt.show()"
   ]
  },
  {
   "cell_type": "code",
   "execution_count": 259,
   "id": "37951004",
   "metadata": {},
   "outputs": [],
   "source": [
    "#save the results to  parquet files\n",
    "output_dir = \"/vol/bitbucket/yl28218/thesis/mimic_cxr_exp/results/exp3\"\n",
    "if not os.path.exists(output_dir):  \n",
    "    os.makedirs(output_dir)\n",
    "test_results_3.to_parquet(os.path.join(output_dir, \"test_results_exp3.parquet\"), index=False)\n"
   ]
  },
  {
   "cell_type": "markdown",
   "id": "679d8fd4",
   "metadata": {},
   "source": [
    "Deepseek"
   ]
  }
 ],
 "metadata": {
  "kernelspec": {
   "display_name": "Python (myvenv)",
   "language": "python",
   "name": "venv"
  },
  "language_info": {
   "codemirror_mode": {
    "name": "ipython",
    "version": 3
   },
   "file_extension": ".py",
   "mimetype": "text/x-python",
   "name": "python",
   "nbconvert_exporter": "python",
   "pygments_lexer": "ipython3",
   "version": "3.12.3"
  }
 },
 "nbformat": 4,
 "nbformat_minor": 5
}
